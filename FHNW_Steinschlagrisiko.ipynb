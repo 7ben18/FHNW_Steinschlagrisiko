{
 "cells": [
  {
   "cell_type": "markdown",
   "id": "a8817dde",
   "metadata": {},
   "source": [
    "# Steinschlagrisiko cwm1"
   ]
  },
  {
   "cell_type": "markdown",
   "id": "07c6f565",
   "metadata": {},
   "source": [
    "## Aufgabenstellung\n",
    "Die Kantonsstrasse unterhalb Schiers (GR) ist vom Steinschlag betroffen. Steine lösen sich von zwei unterschiedlichen Stellen an der Felswand ab (Ablösungszone 1 und Ablösungszone 2). Der betroffene Strassenabschnitt ist mit Steinfangnetzen gesichert, die jedoch in die Jahre gekommen sind und die angestrebte Sicherheit nicht mehr gewährleisten können. Die Planung für Ersatznetze hat bereits begonnen, kann aber frühstens in einem Jahr umgesetzt werden.\n",
    "\n",
    "In den letzten Monaten haben sich mehrere Steinschlagereignisse ereignet. Kommt es im Lauf des nächsten Jahres zu weiteren vergleichbaren Ereignissen, könnten die alten Sicherheitsnetze versagen und die Verkehrsteilnehmer einem grossen Sicherheitsrisiko ausgesetzt sein. Die Bevölkerung ist verunsichert und der Kantonsingenieur muss schnell entscheiden, ob das Risiko für die Verkehrsteilnehmer zu gross ist und die Kantonsstrasse vorübergehend gesperrt werden muss. Der Kantonsingenieur hat sie beauftragt, anhand von vorhanden Daten die Wahrscheinlichkeit eines Todesfalls zu berechnen und eine Empfehlung bezüglich der Schliessung bzw Offenhaltung der Strasse auszusprechen.\n",
    "\n",
    "Damit die Strasse offen bleiben kann, muss gezeigt werden, dass die jährliche Wahrscheinlichkeit von Todesfällen infolge Steinschlags kleiner als 10-4  ist. Für die Berechnungen soll ein gut strukturierter und dokumentierter Code in Python oder R entwickelt werden.\n"
   ]
  },
  {
   "cell_type": "markdown",
   "id": "2007a0b3",
   "metadata": {},
   "source": [
    "## Grundlagen\n",
    "Für die Planung der neuen Sicherheitsnetze, hat ein beauftragter Geologe, über drei Monate Daten zu den Steinschlagereignisse aufgenommen. Dabei wurde Steingeschwindigkeit, Steinmasse und Zeitpunkt und der Zeitpunkt des Ereignis registriert. Diese Daten können von Ihnen zur Modellbildung verwendet werden und stehen unter folgenden Links zur Verfügung:\n",
    "\n",
    "Ereignis aus Ablösungszone 1: https://www.dropbox.com/s/i58gdv6pzi03rhr/out_1.csv?dl=0\n",
    "\n",
    "Ereignis aus Ablösungszone 2: https://www.dropbox.com/s/3nk9pv7nzz8f0qb/out_2.csv?dl=0\n",
    "\n",
    "NB: Die Geschwindigkeit ist durch einen Radar aufgenommen und sehr präzise. Die Masse ist eine Experten-Schätzung des Geologen.\n",
    "Ein beauftragtes Ingenieurbüro hat geschätzt, dass die Sicherheitsnetze bis zu einer Aufprallenergie von 1000 kJ sicher sind. Falls bereits ein Stein mit über 2000kg in den Sicherheitsnetzen liegt, beträgt die Aufprallenergie, die von den Sicherheitsnetzen aufgenommen werden kann, nur noch 500 kJ. Steine in den Sicherheitsnetze werden vom Unterhaltsteam entfernt (die Reaktionszeit beträgt 24 Stunden).\n",
    "Das tägliche Verkehrsaufkommen beträgt 1200 Autos. Stau kommt auf der Strecke nicht vor. Die Tempolimite beträgt 60 km/h. "
   ]
  },
  {
   "cell_type": "markdown",
   "id": "c6ccc6f5",
   "metadata": {},
   "source": [
    "## Abgabe\n",
    "Form der Abgabe\n",
    "Quellcode der Berechnungen in einem Notebook (R oder Jupyter).\n",
    "\n",
    "Kurzer Bericht (max 8 Seiten) der die Berechnungen klar und nachvollziebar beschreibt und die Empfehlung an den Kantonsingenieur begründet."
   ]
  },
  {
   "cell_type": "markdown",
   "id": "4c8cfaab",
   "metadata": {},
   "source": [
    "### Abgabetermin\n",
    "Montag, 10. Januar 2022"
   ]
  },
  {
   "cell_type": "markdown",
   "id": "81779819",
   "metadata": {},
   "source": [
    "## 1. Bibliotheken Importieren"
   ]
  },
  {
   "cell_type": "code",
   "execution_count": 23,
   "id": "d56d63f8",
   "metadata": {},
   "outputs": [],
   "source": [
    "import numpy as np\n",
    "import random as rnd\n",
    "import pandas as pd\n",
    "import statistics as st\n",
    "import scipy.stats as stats\n",
    "from scipy.stats import norm\n",
    "import matplotlib.pyplot as plt\n",
    "# from pandas_profiling import ProfileReport"
   ]
  },
  {
   "cell_type": "markdown",
   "id": "45ec8eec",
   "metadata": {},
   "source": [
    "## 2. Vorbereitung der Daten\n",
    "### 2.1 Daten einlesen und reinigen"
   ]
  },
  {
   "cell_type": "code",
   "execution_count": 2,
   "id": "d5195c5d",
   "metadata": {},
   "outputs": [],
   "source": [
    "# Daten laden\n",
    "df1 = pd.read_csv(\"out_1.csv\")\n",
    "df2 = pd.read_csv(\"out_2.csv\")\n",
    "\n",
    "# Spaltennamen von df2 ändern so dass sie die Spaltennamen von df1 entsprechen\n",
    "df2 = df2.rename(columns={\"Date\":\"Datum\",\"m [kg]\":\"Masse [kg]\",\"v [m/s]\":\"Geschwindigkeit [m/s]\"})\n",
    "\n",
    "# Datentabelle auswählen\n",
    "df1 = df1.loc[:, [\"Datum\",\"Uhrzeit\",\"Masse [kg]\",\"Geschwindigkeit [m/s]\"]]\n",
    "df2 = df2.loc[:, [\"Datum\",\"Uhrzeit\",\"Masse [kg]\",\"Geschwindigkeit [m/s]\"]]\n",
    "\n",
    "# Spalte Ablösungszone hinzufügen\n",
    "df1['Ablösungszone'] = 1\n",
    "df2['Ablösungszone'] = 2\n",
    "\n",
    "# Zeilen mit NA Werte löschen\n",
    "df1 = df1.dropna()\n",
    "df2 = df2.dropna()"
   ]
  },
  {
   "cell_type": "markdown",
   "id": "e152ba0f",
   "metadata": {},
   "source": [
    "Datum und Uhrzeit in einer Spalte zusammenfügen damit daraus einen Datetime Objekt erstellt werden kann."
   ]
  },
  {
   "cell_type": "code",
   "execution_count": 3,
   "id": "7a7b6fb4",
   "metadata": {},
   "outputs": [],
   "source": [
    "df1[\"Datum\"] = pd.to_datetime(df1[\"Datum\"] + \" \" + df1[\"Uhrzeit\"])\n",
    "df2[\"Datum\"] = pd.to_datetime(df2[\"Datum\"] + \" \" + df2[\"Uhrzeit\"])\n",
    "\n",
    "df1 = df1.drop(\"Uhrzeit\", axis=1)\n",
    "df2 = df2.drop(\"Uhrzeit\", axis=1)"
   ]
  },
  {
   "cell_type": "code",
   "execution_count": 4,
   "id": "94ec414e",
   "metadata": {},
   "outputs": [
    {
     "data": {
      "text/html": [
       "<div>\n",
       "<style scoped>\n",
       "    .dataframe tbody tr th:only-of-type {\n",
       "        vertical-align: middle;\n",
       "    }\n",
       "\n",
       "    .dataframe tbody tr th {\n",
       "        vertical-align: top;\n",
       "    }\n",
       "\n",
       "    .dataframe thead th {\n",
       "        text-align: right;\n",
       "    }\n",
       "</style>\n",
       "<table border=\"1\" class=\"dataframe\">\n",
       "  <thead>\n",
       "    <tr style=\"text-align: right;\">\n",
       "      <th></th>\n",
       "      <th>Datum</th>\n",
       "      <th>Masse [kg]</th>\n",
       "      <th>Geschwindigkeit [m/s]</th>\n",
       "      <th>Ablösungszone</th>\n",
       "    </tr>\n",
       "  </thead>\n",
       "  <tbody>\n",
       "    <tr>\n",
       "      <th>0</th>\n",
       "      <td>2019-01-01 09:00:00</td>\n",
       "      <td>194.0</td>\n",
       "      <td>8.4</td>\n",
       "      <td>1</td>\n",
       "    </tr>\n",
       "    <tr>\n",
       "      <th>1</th>\n",
       "      <td>2019-01-01 21:00:00</td>\n",
       "      <td>224.0</td>\n",
       "      <td>8.8</td>\n",
       "      <td>1</td>\n",
       "    </tr>\n",
       "    <tr>\n",
       "      <th>2</th>\n",
       "      <td>2019-01-02 14:00:00</td>\n",
       "      <td>3104.0</td>\n",
       "      <td>9.2</td>\n",
       "      <td>1</td>\n",
       "    </tr>\n",
       "    <tr>\n",
       "      <th>3</th>\n",
       "      <td>2019-01-04 15:00:00</td>\n",
       "      <td>228.0</td>\n",
       "      <td>8.0</td>\n",
       "      <td>1</td>\n",
       "    </tr>\n",
       "    <tr>\n",
       "      <th>4</th>\n",
       "      <td>2019-01-05 23:00:00</td>\n",
       "      <td>755.0</td>\n",
       "      <td>7.0</td>\n",
       "      <td>1</td>\n",
       "    </tr>\n",
       "    <tr>\n",
       "      <th>...</th>\n",
       "      <td>...</td>\n",
       "      <td>...</td>\n",
       "      <td>...</td>\n",
       "      <td>...</td>\n",
       "    </tr>\n",
       "    <tr>\n",
       "      <th>63</th>\n",
       "      <td>2019-03-18 16:00:00</td>\n",
       "      <td>167.0</td>\n",
       "      <td>8.9</td>\n",
       "      <td>1</td>\n",
       "    </tr>\n",
       "    <tr>\n",
       "      <th>64</th>\n",
       "      <td>2019-03-22 18:00:00</td>\n",
       "      <td>2847.0</td>\n",
       "      <td>7.0</td>\n",
       "      <td>1</td>\n",
       "    </tr>\n",
       "    <tr>\n",
       "      <th>65</th>\n",
       "      <td>2019-03-26 00:00:00</td>\n",
       "      <td>44.0</td>\n",
       "      <td>8.9</td>\n",
       "      <td>1</td>\n",
       "    </tr>\n",
       "    <tr>\n",
       "      <th>66</th>\n",
       "      <td>2019-03-26 06:00:00</td>\n",
       "      <td>45.0</td>\n",
       "      <td>8.4</td>\n",
       "      <td>1</td>\n",
       "    </tr>\n",
       "    <tr>\n",
       "      <th>67</th>\n",
       "      <td>2019-03-27 16:00:00</td>\n",
       "      <td>312.0</td>\n",
       "      <td>5.8</td>\n",
       "      <td>1</td>\n",
       "    </tr>\n",
       "  </tbody>\n",
       "</table>\n",
       "<p>68 rows × 4 columns</p>\n",
       "</div>"
      ],
      "text/plain": [
       "                 Datum  Masse [kg]  Geschwindigkeit [m/s]  Ablösungszone\n",
       "0  2019-01-01 09:00:00       194.0                    8.4              1\n",
       "1  2019-01-01 21:00:00       224.0                    8.8              1\n",
       "2  2019-01-02 14:00:00      3104.0                    9.2              1\n",
       "3  2019-01-04 15:00:00       228.0                    8.0              1\n",
       "4  2019-01-05 23:00:00       755.0                    7.0              1\n",
       "..                 ...         ...                    ...            ...\n",
       "63 2019-03-18 16:00:00       167.0                    8.9              1\n",
       "64 2019-03-22 18:00:00      2847.0                    7.0              1\n",
       "65 2019-03-26 00:00:00        44.0                    8.9              1\n",
       "66 2019-03-26 06:00:00        45.0                    8.4              1\n",
       "67 2019-03-27 16:00:00       312.0                    5.8              1\n",
       "\n",
       "[68 rows x 4 columns]"
      ]
     },
     "execution_count": 4,
     "metadata": {},
     "output_type": "execute_result"
    }
   ],
   "source": [
    "df1"
   ]
  },
  {
   "cell_type": "code",
   "execution_count": 5,
   "id": "1b5b5a1f",
   "metadata": {},
   "outputs": [
    {
     "data": {
      "text/html": [
       "<div>\n",
       "<style scoped>\n",
       "    .dataframe tbody tr th:only-of-type {\n",
       "        vertical-align: middle;\n",
       "    }\n",
       "\n",
       "    .dataframe tbody tr th {\n",
       "        vertical-align: top;\n",
       "    }\n",
       "\n",
       "    .dataframe thead th {\n",
       "        text-align: right;\n",
       "    }\n",
       "</style>\n",
       "<table border=\"1\" class=\"dataframe\">\n",
       "  <thead>\n",
       "    <tr style=\"text-align: right;\">\n",
       "      <th></th>\n",
       "      <th>Datum</th>\n",
       "      <th>Masse [kg]</th>\n",
       "      <th>Geschwindigkeit [m/s]</th>\n",
       "      <th>Ablösungszone</th>\n",
       "    </tr>\n",
       "  </thead>\n",
       "  <tbody>\n",
       "    <tr>\n",
       "      <th>0</th>\n",
       "      <td>2019-01-01 09:00:00</td>\n",
       "      <td>38.0</td>\n",
       "      <td>45.4</td>\n",
       "      <td>2</td>\n",
       "    </tr>\n",
       "    <tr>\n",
       "      <th>1</th>\n",
       "      <td>2019-01-03 06:00:00</td>\n",
       "      <td>187.0</td>\n",
       "      <td>41.6</td>\n",
       "      <td>2</td>\n",
       "    </tr>\n",
       "    <tr>\n",
       "      <th>2</th>\n",
       "      <td>2019-01-04 10:00:00</td>\n",
       "      <td>36.0</td>\n",
       "      <td>44.6</td>\n",
       "      <td>2</td>\n",
       "    </tr>\n",
       "    <tr>\n",
       "      <th>3</th>\n",
       "      <td>2019-01-07 14:00:00</td>\n",
       "      <td>6.0</td>\n",
       "      <td>41.2</td>\n",
       "      <td>2</td>\n",
       "    </tr>\n",
       "    <tr>\n",
       "      <th>4</th>\n",
       "      <td>2019-01-11 06:00:00</td>\n",
       "      <td>65.0</td>\n",
       "      <td>39.6</td>\n",
       "      <td>2</td>\n",
       "    </tr>\n",
       "    <tr>\n",
       "      <th>5</th>\n",
       "      <td>2019-01-11 16:00:00</td>\n",
       "      <td>58.0</td>\n",
       "      <td>33.2</td>\n",
       "      <td>2</td>\n",
       "    </tr>\n",
       "    <tr>\n",
       "      <th>6</th>\n",
       "      <td>2019-01-14 11:00:00</td>\n",
       "      <td>365.0</td>\n",
       "      <td>40.2</td>\n",
       "      <td>2</td>\n",
       "    </tr>\n",
       "    <tr>\n",
       "      <th>7</th>\n",
       "      <td>2019-01-16 02:00:00</td>\n",
       "      <td>22.0</td>\n",
       "      <td>46.5</td>\n",
       "      <td>2</td>\n",
       "    </tr>\n",
       "    <tr>\n",
       "      <th>8</th>\n",
       "      <td>2019-01-18 06:00:00</td>\n",
       "      <td>146.0</td>\n",
       "      <td>36.2</td>\n",
       "      <td>2</td>\n",
       "    </tr>\n",
       "    <tr>\n",
       "      <th>9</th>\n",
       "      <td>2019-01-19 17:00:00</td>\n",
       "      <td>29.0</td>\n",
       "      <td>38.3</td>\n",
       "      <td>2</td>\n",
       "    </tr>\n",
       "    <tr>\n",
       "      <th>10</th>\n",
       "      <td>2019-01-20 22:00:00</td>\n",
       "      <td>40.0</td>\n",
       "      <td>41.6</td>\n",
       "      <td>2</td>\n",
       "    </tr>\n",
       "    <tr>\n",
       "      <th>11</th>\n",
       "      <td>2019-01-21 11:00:00</td>\n",
       "      <td>304.0</td>\n",
       "      <td>36.7</td>\n",
       "      <td>2</td>\n",
       "    </tr>\n",
       "    <tr>\n",
       "      <th>12</th>\n",
       "      <td>2019-01-22 21:00:00</td>\n",
       "      <td>33.0</td>\n",
       "      <td>44.1</td>\n",
       "      <td>2</td>\n",
       "    </tr>\n",
       "    <tr>\n",
       "      <th>13</th>\n",
       "      <td>2019-01-29 07:00:00</td>\n",
       "      <td>50.0</td>\n",
       "      <td>40.0</td>\n",
       "      <td>2</td>\n",
       "    </tr>\n",
       "    <tr>\n",
       "      <th>14</th>\n",
       "      <td>2019-02-06 02:00:00</td>\n",
       "      <td>77.0</td>\n",
       "      <td>38.0</td>\n",
       "      <td>2</td>\n",
       "    </tr>\n",
       "    <tr>\n",
       "      <th>15</th>\n",
       "      <td>2019-02-10 20:00:00</td>\n",
       "      <td>76.0</td>\n",
       "      <td>39.2</td>\n",
       "      <td>2</td>\n",
       "    </tr>\n",
       "    <tr>\n",
       "      <th>16</th>\n",
       "      <td>2019-02-14 05:00:00</td>\n",
       "      <td>138.0</td>\n",
       "      <td>33.2</td>\n",
       "      <td>2</td>\n",
       "    </tr>\n",
       "    <tr>\n",
       "      <th>17</th>\n",
       "      <td>2019-02-15 11:00:00</td>\n",
       "      <td>152.0</td>\n",
       "      <td>24.9</td>\n",
       "      <td>2</td>\n",
       "    </tr>\n",
       "    <tr>\n",
       "      <th>18</th>\n",
       "      <td>2019-02-16 18:00:00</td>\n",
       "      <td>241.0</td>\n",
       "      <td>40.6</td>\n",
       "      <td>2</td>\n",
       "    </tr>\n",
       "    <tr>\n",
       "      <th>19</th>\n",
       "      <td>2019-02-25 14:00:00</td>\n",
       "      <td>97.0</td>\n",
       "      <td>30.0</td>\n",
       "      <td>2</td>\n",
       "    </tr>\n",
       "    <tr>\n",
       "      <th>20</th>\n",
       "      <td>2019-02-28 05:00:00</td>\n",
       "      <td>37.0</td>\n",
       "      <td>32.2</td>\n",
       "      <td>2</td>\n",
       "    </tr>\n",
       "    <tr>\n",
       "      <th>21</th>\n",
       "      <td>2019-02-28 12:00:00</td>\n",
       "      <td>64.0</td>\n",
       "      <td>34.3</td>\n",
       "      <td>2</td>\n",
       "    </tr>\n",
       "    <tr>\n",
       "      <th>22</th>\n",
       "      <td>2019-03-07 21:00:00</td>\n",
       "      <td>55.0</td>\n",
       "      <td>31.7</td>\n",
       "      <td>2</td>\n",
       "    </tr>\n",
       "    <tr>\n",
       "      <th>23</th>\n",
       "      <td>2019-03-10 16:00:00</td>\n",
       "      <td>0.0</td>\n",
       "      <td>32.3</td>\n",
       "      <td>2</td>\n",
       "    </tr>\n",
       "    <tr>\n",
       "      <th>24</th>\n",
       "      <td>2019-03-10 23:00:00</td>\n",
       "      <td>45.0</td>\n",
       "      <td>32.2</td>\n",
       "      <td>2</td>\n",
       "    </tr>\n",
       "    <tr>\n",
       "      <th>25</th>\n",
       "      <td>2019-03-11 18:00:00</td>\n",
       "      <td>406.0</td>\n",
       "      <td>44.1</td>\n",
       "      <td>2</td>\n",
       "    </tr>\n",
       "    <tr>\n",
       "      <th>26</th>\n",
       "      <td>2019-03-17 09:00:00</td>\n",
       "      <td>58.0</td>\n",
       "      <td>33.6</td>\n",
       "      <td>2</td>\n",
       "    </tr>\n",
       "    <tr>\n",
       "      <th>27</th>\n",
       "      <td>2019-03-20 10:00:00</td>\n",
       "      <td>16.0</td>\n",
       "      <td>42.1</td>\n",
       "      <td>2</td>\n",
       "    </tr>\n",
       "    <tr>\n",
       "      <th>28</th>\n",
       "      <td>2019-03-21 13:00:00</td>\n",
       "      <td>211.0</td>\n",
       "      <td>29.0</td>\n",
       "      <td>2</td>\n",
       "    </tr>\n",
       "    <tr>\n",
       "      <th>29</th>\n",
       "      <td>2019-03-24 16:00:00</td>\n",
       "      <td>3.0</td>\n",
       "      <td>42.3</td>\n",
       "      <td>2</td>\n",
       "    </tr>\n",
       "    <tr>\n",
       "      <th>30</th>\n",
       "      <td>2019-03-25 14:00:00</td>\n",
       "      <td>63.0</td>\n",
       "      <td>43.2</td>\n",
       "      <td>2</td>\n",
       "    </tr>\n",
       "    <tr>\n",
       "      <th>31</th>\n",
       "      <td>2019-03-28 01:00:00</td>\n",
       "      <td>58.0</td>\n",
       "      <td>37.2</td>\n",
       "      <td>2</td>\n",
       "    </tr>\n",
       "  </tbody>\n",
       "</table>\n",
       "</div>"
      ],
      "text/plain": [
       "                 Datum  Masse [kg]  Geschwindigkeit [m/s]  Ablösungszone\n",
       "0  2019-01-01 09:00:00        38.0                   45.4              2\n",
       "1  2019-01-03 06:00:00       187.0                   41.6              2\n",
       "2  2019-01-04 10:00:00        36.0                   44.6              2\n",
       "3  2019-01-07 14:00:00         6.0                   41.2              2\n",
       "4  2019-01-11 06:00:00        65.0                   39.6              2\n",
       "5  2019-01-11 16:00:00        58.0                   33.2              2\n",
       "6  2019-01-14 11:00:00       365.0                   40.2              2\n",
       "7  2019-01-16 02:00:00        22.0                   46.5              2\n",
       "8  2019-01-18 06:00:00       146.0                   36.2              2\n",
       "9  2019-01-19 17:00:00        29.0                   38.3              2\n",
       "10 2019-01-20 22:00:00        40.0                   41.6              2\n",
       "11 2019-01-21 11:00:00       304.0                   36.7              2\n",
       "12 2019-01-22 21:00:00        33.0                   44.1              2\n",
       "13 2019-01-29 07:00:00        50.0                   40.0              2\n",
       "14 2019-02-06 02:00:00        77.0                   38.0              2\n",
       "15 2019-02-10 20:00:00        76.0                   39.2              2\n",
       "16 2019-02-14 05:00:00       138.0                   33.2              2\n",
       "17 2019-02-15 11:00:00       152.0                   24.9              2\n",
       "18 2019-02-16 18:00:00       241.0                   40.6              2\n",
       "19 2019-02-25 14:00:00        97.0                   30.0              2\n",
       "20 2019-02-28 05:00:00        37.0                   32.2              2\n",
       "21 2019-02-28 12:00:00        64.0                   34.3              2\n",
       "22 2019-03-07 21:00:00        55.0                   31.7              2\n",
       "23 2019-03-10 16:00:00         0.0                   32.3              2\n",
       "24 2019-03-10 23:00:00        45.0                   32.2              2\n",
       "25 2019-03-11 18:00:00       406.0                   44.1              2\n",
       "26 2019-03-17 09:00:00        58.0                   33.6              2\n",
       "27 2019-03-20 10:00:00        16.0                   42.1              2\n",
       "28 2019-03-21 13:00:00       211.0                   29.0              2\n",
       "29 2019-03-24 16:00:00         3.0                   42.3              2\n",
       "30 2019-03-25 14:00:00        63.0                   43.2              2\n",
       "31 2019-03-28 01:00:00        58.0                   37.2              2"
      ]
     },
     "execution_count": 5,
     "metadata": {},
     "output_type": "execute_result"
    }
   ],
   "source": [
    "df2"
   ]
  },
  {
   "cell_type": "markdown",
   "id": "ce1d7a19",
   "metadata": {},
   "source": [
    "### 2.2 Tabellen zusammenfügen"
   ]
  },
  {
   "cell_type": "code",
   "execution_count": 6,
   "id": "5ffdf719",
   "metadata": {
    "scrolled": true
   },
   "outputs": [
    {
     "data": {
      "text/html": [
       "<div>\n",
       "<style scoped>\n",
       "    .dataframe tbody tr th:only-of-type {\n",
       "        vertical-align: middle;\n",
       "    }\n",
       "\n",
       "    .dataframe tbody tr th {\n",
       "        vertical-align: top;\n",
       "    }\n",
       "\n",
       "    .dataframe thead th {\n",
       "        text-align: right;\n",
       "    }\n",
       "</style>\n",
       "<table border=\"1\" class=\"dataframe\">\n",
       "  <thead>\n",
       "    <tr style=\"text-align: right;\">\n",
       "      <th></th>\n",
       "      <th>Datum</th>\n",
       "      <th>Masse [kg]</th>\n",
       "      <th>Geschwindigkeit [m/s]</th>\n",
       "      <th>Ablösungszone</th>\n",
       "    </tr>\n",
       "  </thead>\n",
       "  <tbody>\n",
       "    <tr>\n",
       "      <th>0</th>\n",
       "      <td>2019-01-01 09:00:00</td>\n",
       "      <td>194.0</td>\n",
       "      <td>8.4</td>\n",
       "      <td>1</td>\n",
       "    </tr>\n",
       "    <tr>\n",
       "      <th>1</th>\n",
       "      <td>2019-01-01 21:00:00</td>\n",
       "      <td>224.0</td>\n",
       "      <td>8.8</td>\n",
       "      <td>1</td>\n",
       "    </tr>\n",
       "    <tr>\n",
       "      <th>2</th>\n",
       "      <td>2019-01-02 14:00:00</td>\n",
       "      <td>3104.0</td>\n",
       "      <td>9.2</td>\n",
       "      <td>1</td>\n",
       "    </tr>\n",
       "    <tr>\n",
       "      <th>3</th>\n",
       "      <td>2019-01-04 15:00:00</td>\n",
       "      <td>228.0</td>\n",
       "      <td>8.0</td>\n",
       "      <td>1</td>\n",
       "    </tr>\n",
       "    <tr>\n",
       "      <th>4</th>\n",
       "      <td>2019-01-05 23:00:00</td>\n",
       "      <td>755.0</td>\n",
       "      <td>7.0</td>\n",
       "      <td>1</td>\n",
       "    </tr>\n",
       "    <tr>\n",
       "      <th>...</th>\n",
       "      <td>...</td>\n",
       "      <td>...</td>\n",
       "      <td>...</td>\n",
       "      <td>...</td>\n",
       "    </tr>\n",
       "    <tr>\n",
       "      <th>27</th>\n",
       "      <td>2019-03-20 10:00:00</td>\n",
       "      <td>16.0</td>\n",
       "      <td>42.1</td>\n",
       "      <td>2</td>\n",
       "    </tr>\n",
       "    <tr>\n",
       "      <th>28</th>\n",
       "      <td>2019-03-21 13:00:00</td>\n",
       "      <td>211.0</td>\n",
       "      <td>29.0</td>\n",
       "      <td>2</td>\n",
       "    </tr>\n",
       "    <tr>\n",
       "      <th>29</th>\n",
       "      <td>2019-03-24 16:00:00</td>\n",
       "      <td>3.0</td>\n",
       "      <td>42.3</td>\n",
       "      <td>2</td>\n",
       "    </tr>\n",
       "    <tr>\n",
       "      <th>30</th>\n",
       "      <td>2019-03-25 14:00:00</td>\n",
       "      <td>63.0</td>\n",
       "      <td>43.2</td>\n",
       "      <td>2</td>\n",
       "    </tr>\n",
       "    <tr>\n",
       "      <th>31</th>\n",
       "      <td>2019-03-28 01:00:00</td>\n",
       "      <td>58.0</td>\n",
       "      <td>37.2</td>\n",
       "      <td>2</td>\n",
       "    </tr>\n",
       "  </tbody>\n",
       "</table>\n",
       "<p>100 rows × 4 columns</p>\n",
       "</div>"
      ],
      "text/plain": [
       "                 Datum  Masse [kg]  Geschwindigkeit [m/s]  Ablösungszone\n",
       "0  2019-01-01 09:00:00       194.0                    8.4              1\n",
       "1  2019-01-01 21:00:00       224.0                    8.8              1\n",
       "2  2019-01-02 14:00:00      3104.0                    9.2              1\n",
       "3  2019-01-04 15:00:00       228.0                    8.0              1\n",
       "4  2019-01-05 23:00:00       755.0                    7.0              1\n",
       "..                 ...         ...                    ...            ...\n",
       "27 2019-03-20 10:00:00        16.0                   42.1              2\n",
       "28 2019-03-21 13:00:00       211.0                   29.0              2\n",
       "29 2019-03-24 16:00:00         3.0                   42.3              2\n",
       "30 2019-03-25 14:00:00        63.0                   43.2              2\n",
       "31 2019-03-28 01:00:00        58.0                   37.2              2\n",
       "\n",
       "[100 rows x 4 columns]"
      ]
     },
     "execution_count": 6,
     "metadata": {},
     "output_type": "execute_result"
    }
   ],
   "source": [
    "df3 = pd.concat([df1, df2])\n",
    "df3"
   ]
  },
  {
   "cell_type": "markdown",
   "id": "c64a8453",
   "metadata": {},
   "source": [
    "## 3. Herausfinden von benötigten Daten"
   ]
  },
  {
   "cell_type": "markdown",
   "id": "10373edf",
   "metadata": {},
   "source": [
    "### 3.1 Kinetische Energie\n",
    "Hier wird die kinetische Energie von jedem Steinschlag berechnet und zu einer Liste hinzugefügt. Danach wird diese Liste als Spalte in df3 ergänzt."
   ]
  },
  {
   "cell_type": "code",
   "execution_count": 7,
   "id": "1a2e02f0",
   "metadata": {},
   "outputs": [],
   "source": [
    "list_mass = [(x) for x in df3[\"Masse [kg]\"]]\n",
    "list_speed = [(x) for x in df3[\"Geschwindigkeit [m/s]\"]]\n",
    "list_energy = [] \n",
    "\n",
    "for i in range(len(list_mass)):\n",
    "    energy_kj = 0.5 * list_mass[i] * list_speed[i]**2 / 1000\n",
    "    energy_kj = round(energy_kj,1)\n",
    "    list_energy.append(energy_kj)\n",
    "\n",
    "df3[\"Energie [kJ]\"] = list_energy"
   ]
  },
  {
   "cell_type": "code",
   "execution_count": 8,
   "id": "0cab1adf",
   "metadata": {},
   "outputs": [
    {
     "data": {
      "text/plain": [
       "0       6.8\n",
       "1       8.7\n",
       "2     131.4\n",
       "3       7.3\n",
       "4      18.5\n",
       "      ...  \n",
       "27     14.2\n",
       "28     88.7\n",
       "29      2.7\n",
       "30     58.8\n",
       "31     40.1\n",
       "Name: Energie [kJ], Length: 100, dtype: float64"
      ]
     },
     "execution_count": 8,
     "metadata": {},
     "output_type": "execute_result"
    }
   ],
   "source": [
    "df3[\"Energie [kJ]\"]"
   ]
  },
  {
   "cell_type": "markdown",
   "id": "66812d5b",
   "metadata": {},
   "source": [
    "### 3.2 Durchschnitt der Massen berechnen\n",
    "\n",
    "In der Ablösungszone 2 gibt es einen Steinschlag, der eine Masse von 0 hat. (index 23)\n",
    "\n",
    "Die Masse darf nicht 0 sein, darum setzen wir für diese Masse den Mittelwert der Massen aus Ablösungszone 2 ein."
   ]
  },
  {
   "cell_type": "code",
   "execution_count": 9,
   "id": "10f2d683",
   "metadata": {},
   "outputs": [],
   "source": [
    "# Summe / Anzahl Werte - i, da der 0-Wert nicht berücksichtigt wird\n",
    "def calcAverage(l, i):\n",
    "    return round(sum(l) / float(len(l)-i),1)"
   ]
  },
  {
   "cell_type": "code",
   "execution_count": 15,
   "id": "0655caec",
   "metadata": {},
   "outputs": [],
   "source": [
    "list_mass_zone2 = df2[\"Masse [kg]\"]\n",
    "\n",
    "average = calcAverage(list_mass_zone2, 1)\n",
    "\n",
    "# 0-Wert mit Durchschnitt ersetzen\n",
    "for i in range(len(list_mass_zone2)):\n",
    "    if list_mass_zone2[i] <= 0:\n",
    "        list_mass_zone2[i] = average"
   ]
  },
  {
   "cell_type": "markdown",
   "id": "f2a836ef",
   "metadata": {},
   "source": [
    "### 3.3 Zeitbstand von Steinschlägen berechnen\n",
    "Wir berechnen jetzt die Zeitabstände in Stunden von den Steinschlägen damit wir eine Normalverteilung aufstellen können."
   ]
  },
  {
   "cell_type": "code",
   "execution_count": 16,
   "id": "49cf2d8e",
   "metadata": {},
   "outputs": [],
   "source": [
    "def calcTimeDistance(zone):\n",
    "    time_distances = []\n",
    "    for i in range(len(zone)):\n",
    "        try: \n",
    "            distance = int(abs(zone[i] - zone[i+1]).total_seconds() / 3600)\n",
    "            time_distances.append(distance)\n",
    "        except Exception:\n",
    "            pass \n",
    "        \n",
    "    return time_distances"
   ]
  },
  {
   "cell_type": "code",
   "execution_count": 17,
   "id": "e9cd5188",
   "metadata": {},
   "outputs": [
    {
     "name": "stdout",
     "output_type": "stream",
     "text": [
      "Durchschnittlicher Zeitabstand von Steinschlägen in Stunden:\n",
      "Ablösungszone 1: 30.6\n",
      "Ablösungszone 2: 66.3\n"
     ]
    }
   ],
   "source": [
    "# Create lists with times\n",
    "dates_zone1 = list(i for i in df1[\"Datum\"])\n",
    "dates_zone2 = list(i for i in df2[\"Datum\"])\n",
    "    \n",
    "time_dist_zone1 = calcTimeDistance(dates_zone1)\n",
    "time_dist_zone2 = calcTimeDistance(dates_zone2)\n",
    "\n",
    "avg_time_dist_zone1 = calcAverage(time_dist_zone1, 0)\n",
    "avg_time_dist_zone2 = calcAverage(time_dist_zone2, 0)\n",
    "\n",
    "print(\"Durchschnittlicher Zeitabstand von Steinschlägen in Stunden:\")\n",
    "print(\"Ablösungszone 1: {}\".format(avg_time_dist_zone1))\n",
    "print(\"Ablösungszone 2: {}\".format(avg_time_dist_zone2))"
   ]
  },
  {
   "cell_type": "markdown",
   "id": "344ced61",
   "metadata": {},
   "source": [
    "### 3.3 Normalverteilung"
   ]
  },
  {
   "cell_type": "code",
   "execution_count": 24,
   "id": "f7dfaba3",
   "metadata": {},
   "outputs": [],
   "source": [
    "def normDistribution(data):\n",
    "    # Fit a normal distribution to the data:\n",
    "    mu, std = stats.norm.fit(data)\n",
    "\n",
    "    # Plot the histogram.\n",
    "    plt.hist(data, bins=100, density=True, alpha=0.6, color='b')\n",
    "\n",
    "    # Plot the PDF.\n",
    "    xmin, xmax = plt.xlim()\n",
    "    x = np.linspace(xmin, xmax, 100)\n",
    "    p = norm.pdf(x, mu, std)\n",
    "    plt.plot(x, p, 'k', linewidth=2)\n",
    "    title = \"Fit results: mu = %.2f,  std = %.2f\" % (mu, std)\n",
    "    plt.title(title)\n",
    "\n",
    "    plt.show()"
   ]
  },
  {
   "cell_type": "code",
   "execution_count": 25,
   "id": "49a8e77e",
   "metadata": {},
   "outputs": [
    {
     "data": {
      "image/png": "[encoded data removed]",
      "text/plain": [
       "<Figure size 432x288 with 1 Axes>"
      ]
     },
     "metadata": {
      "needs_background": "light"
     },
     "output_type": "display_data"
    },
    {
     "data": {
      "image/png": "[encoded data removed]",
      "text/plain": [
       "<Figure size 432x288 with 1 Axes>"
      ]
     },
     "metadata": {
      "needs_background": "light"
     },
     "output_type": "display_data"
    }
   ],
   "source": [
    "normDistribution(time_dist_zone1)\n",
    "normDistribution(time_dist_zone2)"
   ]
  },
  {
   "cell_type": "markdown",
   "id": "e3f17371",
   "metadata": {},
   "source": [
    "## 6. Statistik"
   ]
  },
  {
   "cell_type": "code",
   "execution_count": null,
   "id": "9faf228e",
   "metadata": {},
   "outputs": [],
   "source": [
    "df3.describe(include=['object'])"
   ]
  },
  {
   "cell_type": "code",
   "execution_count": null,
   "id": "eb938907",
   "metadata": {},
   "outputs": [],
   "source": [
    "df3.describe(include='all')"
   ]
  },
  {
   "cell_type": "code",
   "execution_count": null,
   "id": "53b7280f",
   "metadata": {},
   "outputs": [],
   "source": [
    "df3.describe()"
   ]
  },
  {
   "cell_type": "markdown",
   "id": "cc628671",
   "metadata": {},
   "source": [
    "### Statistik von der Masse"
   ]
  },
  {
   "cell_type": "code",
   "execution_count": null,
   "id": "baf6421e",
   "metadata": {},
   "outputs": [],
   "source": [
    "varianz = df3[\"Masse [kg]\"].var()\n",
    "standardabweichung = df3[\"Masse [kg]\"].std()\n",
    "schiefemasse = df3[\"Masse [kg]\"].skew()\n",
    "kurtosis = df3[\"Masse [kg]\"].kurtosis()\n",
    "print((\"Varianz {0}, Standardabweichung {1}, Schiefemasse {2}, Kurtosis {3}\").format(varianz, standardabweichung, schiefemasse, kurtosis))"
   ]
  },
  {
   "cell_type": "markdown",
   "id": "6712d62a",
   "metadata": {},
   "source": [
    "## 6. Histogramme"
   ]
  },
  {
   "cell_type": "code",
   "execution_count": null,
   "id": "f951060f",
   "metadata": {},
   "outputs": [],
   "source": [
    "# Prepare data\n",
    "x_var = 'Masse [kg]'\n",
    "groupby_var = 'Ablösungszone'\n",
    "df_agg = df3.loc[:, [x_var, groupby_var]].groupby(groupby_var)\n",
    "vals = [df3[x_var].values.tolist() for i, df3 in df_agg]\n",
    "\n",
    "# Draw\n",
    "plt.figure(figsize=(16,9), dpi= 80)\n",
    "colors = [plt.cm.Spectral(i/float(len(vals)-1)) for i in range(len(vals))]\n",
    "n, bins, patches = plt.hist(vals, 30, stacked=True, density=False, color=colors[:len(vals)])\n",
    "\n",
    "# Decoration\n",
    "plt.legend({group:col for group, col in zip(np.unique(df3[groupby_var]).tolist(), colors[:len(vals)])})\n",
    "plt.title(f\"Stacked Histogram of ${x_var}$ colored by ${groupby_var}$\", fontsize=22)\n",
    "plt.xlabel(x_var)\n",
    "plt.ylabel(\"Frequency\")\n",
    "plt.ylim(0, 25)\n",
    "plt.xticks(ticks=bins[::3], labels=[round(b,1) for b in bins[::3]])\n",
    "plt.show()"
   ]
  },
  {
   "cell_type": "code",
   "execution_count": null,
   "id": "2fdbb74f",
   "metadata": {},
   "outputs": [],
   "source": [
    "# Prepare data\n",
    "x_var = 'Geschwindigkeit [m/s]'\n",
    "groupby_var = 'Ablösungszone'\n",
    "df_agg = df3.loc[:, [x_var, groupby_var]].groupby(groupby_var)\n",
    "vals = [df3[x_var].values.tolist() for i, df3 in df_agg]\n",
    "\n",
    "# Draw\n",
    "plt.figure(figsize=(16,9), dpi= 80)\n",
    "colors = [plt.cm.Spectral(i/float(len(vals)-1)) for i in range(len(vals))]\n",
    "n, bins, patches = plt.hist(vals, 30, stacked=True, density=False, color=colors[:len(vals)])\n",
    "\n",
    "# Decoration\n",
    "plt.legend({group:col for group, col in zip(np.unique(df3[groupby_var]).tolist(), colors[:len(vals)])})\n",
    "plt.title(f\"Stacked Histogram of ${x_var}$ colored by ${groupby_var}$\", fontsize=22)\n",
    "plt.xlabel(x_var)\n",
    "plt.ylabel(\"Frequency\")\n",
    "plt.ylim(0, 25)\n",
    "plt.xticks(ticks=bins[::3], labels=[round(b,1) for b in bins[::3]])\n",
    "plt.show()"
   ]
  },
  {
   "cell_type": "code",
   "execution_count": null,
   "id": "9540189a",
   "metadata": {},
   "outputs": [],
   "source": [
    "# Prepare data\n",
    "x_var = 'Energie [kJ]'\n",
    "groupby_var = 'Ablösungszone'\n",
    "df_agg = df3.loc[:, [x_var, groupby_var]].groupby(groupby_var)\n",
    "vals = [df3[x_var].values.tolist() for i, df3 in df_agg]\n",
    "\n",
    "# Draw\n",
    "plt.figure(figsize=(16,9), dpi= 80)\n",
    "colors = [plt.cm.Spectral(i/float(len(vals)-1)) for i in range(len(vals))]\n",
    "n, bins, patches = plt.hist(vals, 30, stacked=True, density=False, color=colors[:len(vals)])\n",
    "\n",
    "# Decoration\n",
    "plt.legend({group:col for group, col in zip(np.unique(df3[groupby_var]).tolist(), colors[:len(vals)])})\n",
    "plt.title(f\"Stacked Histogram of ${x_var}$ colored by ${groupby_var}$\", fontsize=22)\n",
    "plt.xlabel(x_var)\n",
    "plt.ylabel(\"Frequency\")\n",
    "plt.ylim(0, 25)\n",
    "plt.xticks(ticks=bins[::3], labels=[round(b,1) for b in bins[::3]])\n",
    "plt.show()"
   ]
  },
  {
   "cell_type": "markdown",
   "id": "96fe66d8",
   "metadata": {},
   "source": [
    "## 7. Streuediagramme"
   ]
  },
  {
   "cell_type": "markdown",
   "id": "2d9ac313",
   "metadata": {},
   "source": [
    "#### Scatterplot von Geschwindigkeit vs Masse"
   ]
  },
  {
   "cell_type": "code",
   "execution_count": null,
   "id": "5d630747",
   "metadata": {},
   "outputs": [],
   "source": [
    "# Create as many colors as there are unique df3['ablösungszone']\n",
    "categories = np.unique(df3['Ablösungszone'])\n",
    "colors = [plt.cm.tab10(i/float(len(categories)-1)) for i in range(len(categories))]\n",
    "\n",
    "# Draw Plot for Each Category\n",
    "plt.figure(figsize=(10, 10), dpi= 70, facecolor='w', edgecolor='k')\n",
    "\n",
    "for i, category in enumerate(categories):\n",
    "    plt.scatter('Geschwindigkeit [m/s]', 'Masse [kg]', \n",
    "                data=df3.loc[df3.Ablösungszone == category, :], \n",
    "                s=15, c=colors[i], label=str(category))\n",
    "\n",
    "plt.gca().set(xlim=(0.0, 50), ylim=(0, 3500), xlabel='Geschwindigkeit [m/s]', ylabel='Masse [kg]')\n",
    "\n",
    "plt.xticks(fontsize=12); plt.yticks(fontsize=12)\n",
    "plt.title(\"Scatterplot von Geschwindigkeit vs Masse\", fontsize=22)\n",
    "plt.legend(fontsize=12)    \n",
    "plt.show()"
   ]
  },
  {
   "cell_type": "markdown",
   "id": "f9beffa3",
   "metadata": {},
   "source": [
    "#### Scatterplot von Geschwindigkeit vs Energie"
   ]
  },
  {
   "cell_type": "code",
   "execution_count": null,
   "id": "effa716b",
   "metadata": {},
   "outputs": [],
   "source": [
    "# Create as many colors as there are unique df3['ablösungszone']\n",
    "categories = np.unique(df3['Ablösungszone'])\n",
    "colors = [plt.cm.tab10(i/float(len(categories)-1)) for i in range(len(categories))]\n",
    "\n",
    "# Draw Plot for Each Category\n",
    "plt.figure(figsize=(10, 10), dpi= 70, facecolor='w', edgecolor='k')\n",
    "\n",
    "for i, category in enumerate(categories):\n",
    "    plt.scatter('Geschwindigkeit [m/s]', 'Energie [kJ]', \n",
    "                data=df3.loc[df3.Ablösungszone == category, :], \n",
    "                s=15, c=colors[i], label=str(category))\n",
    "\n",
    "plt.gca().set(xlim=(0.0, 50), ylim=(0, 400), xlabel='Geschwindigkeit [m/s]', ylabel='Energie [kJ]')\n",
    "\n",
    "plt.xticks(fontsize=12); plt.yticks(fontsize=12)\n",
    "plt.title(\"Scatterplot von Geschwindigkeit vs Energie\", fontsize=22)\n",
    "plt.legend(fontsize=12)    \n",
    "plt.show()"
   ]
  },
  {
   "cell_type": "markdown",
   "id": "846a1f86",
   "metadata": {},
   "source": [
    "#### Scatterplot von Energie vs Masse"
   ]
  },
  {
   "cell_type": "code",
   "execution_count": null,
   "id": "005d61db",
   "metadata": {
    "scrolled": false
   },
   "outputs": [],
   "source": [
    "# Create as many colors as there are unique df3['ablösungszone']\n",
    "categories = np.unique(df3['Ablösungszone'])\n",
    "colors = [plt.cm.tab10(i/float(len(categories)-1)) for i in range(len(categories))]\n",
    "\n",
    "# Draw Plot for Each Category\n",
    "plt.figure(figsize=(15, 10), dpi= 70, facecolor='w', edgecolor='k')\n",
    "\n",
    "for i, category in enumerate(categories):\n",
    "    plt.scatter('Energie [kJ]', 'Masse [kg]', \n",
    "                data=df3.loc[df3.Ablösungszone == category, :], \n",
    "                s=15, c=colors[i], label=str(category))\n",
    "\n",
    "plt.gca().set(xlim=(0.0, 400), ylim=(0, 3500), xlabel='Energie [kJ]', ylabel='Masse [kg]')\n",
    "\n",
    "plt.xticks(fontsize=12); plt.yticks(fontsize=12)\n",
    "plt.title(\"Scatterplot von Energie vs Masse\", fontsize=22)\n",
    "plt.legend(fontsize=12)    \n",
    "plt.show()"
   ]
  },
  {
   "cell_type": "markdown",
   "id": "62834640",
   "metadata": {},
   "source": [
    "## 8. Time Plot\n",
    "https://www.machinelearningplus.com/plots/top-50-matplotlib-visualizations-the-master-plots-python/\n",
    "Chart 35."
   ]
  },
  {
   "cell_type": "code",
   "execution_count": null,
   "id": "1e14f5eb",
   "metadata": {},
   "outputs": [],
   "source": [
    "# Durchschnittliche Anzahl Steinschläge pro Stunde darstellen\n",
    "def timelist():\n",
    "    \n",
    "    time_list = []\n",
    "    \n",
    "    for i in df3[\"Uhrzeit\"]:\n",
    "        time_list.append(i)\n",
    "        \n",
    "    time_list.sort()\n",
    "                \n",
    "    return {i: time_list.count(i) for i in time_list}\n",
    "\n",
    "rockfalls = []\n",
    "times = []\n",
    "\n",
    "for t, r in timelist().items():\n",
    "    times.append(t)\n",
    "    rockfalls.append(r)"
   ]
  },
  {
   "cell_type": "code",
   "execution_count": null,
   "id": "7adffbc4",
   "metadata": {},
   "outputs": [],
   "source": [
    "plt.figure(figsize=(16,10), dpi= 80)\n",
    "plt.plot(times, rockfalls, color='tab:red')\n",
    "\n",
    "plt.ylim(0, 10)\n",
    "plt.title(\"Anzahl Steinschläge pro Stunde (Ablösungszone 1 & 2)\", fontsize=22)\n",
    "plt.grid(axis='both', alpha=.3) \n",
    "plt.show()"
   ]
  },
  {
   "cell_type": "code",
   "execution_count": null,
   "id": "afa7d020",
   "metadata": {},
   "outputs": [],
   "source": [
    "# Durchschnittliche Anzahl Steinschläge pro Stunde darstellen\n",
    "def timelist():\n",
    "    \n",
    "    time_list = []\n",
    "    \n",
    "    for i in df1[\"Uhrzeit\"]:\n",
    "        time_list.append(i)\n",
    "        \n",
    "    time_list.sort()\n",
    "                \n",
    "    return {i: time_list.count(i) for i in time_list}\n",
    "\n",
    "rockfalls1 = []\n",
    "times1 = []\n",
    "\n",
    "for t, r in timelist().items():\n",
    "    times1.append(t)\n",
    "    rockfalls1.append(r)"
   ]
  },
  {
   "cell_type": "code",
   "execution_count": null,
   "id": "c8a5231c",
   "metadata": {},
   "outputs": [],
   "source": [
    "plt.figure(figsize=(16,10), dpi= 80)\n",
    "plt.plot(times1, rockfalls1, color='tab:red')\n",
    "\n",
    "plt.ylim(0, 10)\n",
    "plt.title(\"Anzahl Steinschläge pro Stunde (Ablösungszone 1)\", fontsize=22)\n",
    "plt.grid(axis='both', alpha=.3) \n",
    "plt.show()"
   ]
  },
  {
   "cell_type": "code",
   "execution_count": null,
   "id": "5b374450",
   "metadata": {},
   "outputs": [],
   "source": [
    "# Durchschnittliche Anzahl Steinschläge pro Stunde darstellen\n",
    "def timelist():\n",
    "    \n",
    "    time_list = []\n",
    "    \n",
    "    for i in df2[\"Uhrzeit\"]:\n",
    "        time_list.append(i)\n",
    "        \n",
    "    time_list.sort()\n",
    "                \n",
    "    return {i: time_list.count(i) for i in time_list}\n",
    "\n",
    "rockfalls2 = []\n",
    "times2 = []\n",
    "\n",
    "for t, r in timelist().items():\n",
    "    times2.append(t)\n",
    "    rockfalls2.append(r)"
   ]
  },
  {
   "cell_type": "code",
   "execution_count": null,
   "id": "57d0c476",
   "metadata": {},
   "outputs": [],
   "source": [
    "plt.figure(figsize=(16,10), dpi= 80)\n",
    "plt.plot(times2, rockfalls2, color='tab:red')\n",
    "\n",
    "plt.ylim(0, 10)\n",
    "plt.title(\"Anzahl Steinschläge pro Stunde (Ablösungszone 2)\", fontsize=22)\n",
    "plt.grid(axis='both', alpha=.3) \n",
    "plt.show()"
   ]
  },
  {
   "cell_type": "markdown",
   "id": "cb7e2d1f",
   "metadata": {},
   "source": [
    "## 10. Netzkapazitaet\n",
    "Zwei verschiedenen Netze\n",
    "\n",
    "Netz Falls bereits ein Stein mit über 2000kg in den Sicherheitsnetzen liegt, beträgt die Aufprallenergie, die von den Sicherheitsnetzen aufgenommen werden kann, nur noch 500 kJ. Steine in den Sicherheitsnetze werden vom Unterhaltsteam entfernt (die Reaktionszeit beträgt 24 Stunden)."
   ]
  },
  {
   "cell_type": "code",
   "execution_count": null,
   "id": "c0edcf2f",
   "metadata": {},
   "outputs": [],
   "source": [
    "Energiespalte = df3.loc[:, [\"Energie [kJ]\"]]\n",
    "Energiespalte\n",
    "\n",
    "#Nach Tag Gruppieren, und summe der Masse im Netz finden. \n",
    "#An wie vielen Tagen, hatte das Netz 2000 kg Steine? \n",
    "#Was passiert wenn das Netz reist? \n",
    "#Wahrscheinlichkeit, dass im Netz 2000 kg sind, gesehen ueber Messzeit. \n",
    "#Wahrscheinlickeitm, dass ein Stein mit 500 kj herunterfiel.\n",
    "#Wann werden die Netze geleert. "
   ]
  },
  {
   "cell_type": "code",
   "execution_count": null,
   "id": "b2080d8a",
   "metadata": {},
   "outputs": [],
   "source": []
  },
  {
   "cell_type": "code",
   "execution_count": null,
   "id": "be8399e6",
   "metadata": {},
   "outputs": [],
   "source": []
  },
  {
   "cell_type": "code",
   "execution_count": null,
   "id": "bdd36a29",
   "metadata": {},
   "outputs": [],
   "source": []
  }
 ],
 "metadata": {
  "kernelspec": {
   "display_name": "Python 3",
   "language": "python",
   "name": "python3"
  },
  "language_info": {
   "codemirror_mode": {
    "name": "ipython",
    "version": 3
   },
   "file_extension": ".py",
   "mimetype": "text/x-python",
   "name": "python",
   "nbconvert_exporter": "python",
   "pygments_lexer": "ipython3",
   "version": "3.8.8"
  }
 },
 "nbformat": 4,
 "nbformat_minor": 5
}
