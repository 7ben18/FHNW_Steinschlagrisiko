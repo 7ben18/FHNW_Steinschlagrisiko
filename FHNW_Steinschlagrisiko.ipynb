{
 "cells": [
  {
   "cell_type": "markdown",
   "id": "a8817dde",
   "metadata": {},
   "source": [
    "# Steinschlagrisiko cwm1"
   ]
  },
  {
   "cell_type": "markdown",
   "id": "07c6f565",
   "metadata": {},
   "source": [
    "## Aufgabenstellung\n",
    "Die Kantonsstrasse unterhalb Schiers (GR) ist vom Steinschlag betroffen. Steine lösen sich von zwei unterschiedlichen Stellen an der Felswand ab (Ablösungszone 1 und Ablösungszone 2). Der betroffene Strassenabschnitt ist mit Steinfangnetzen gesichert, die jedoch in die Jahre gekommen sind und die angestrebte Sicherheit nicht mehr gewährleisten können. Die Planung für Ersatznetze hat bereits begonnen, kann aber frühstens in einem Jahr umgesetzt werden.\n",
    "\n",
    "In den letzten Monaten haben sich mehrere Steinschlagereignisse ereignet. Kommt es im Lauf des nächsten Jahres zu weiteren vergleichbaren Ereignissen, könnten die alten Sicherheitsnetze versagen und die Verkehrsteilnehmer einem grossen Sicherheitsrisiko ausgesetzt sein. Die Bevölkerung ist verunsichert und der Kantonsingenieur muss schnell entscheiden, ob das Risiko für die Verkehrsteilnehmer zu gross ist und die Kantonsstrasse vorübergehend gesperrt werden muss. Der Kantonsingenieur hat sie beauftragt, anhand von vorhanden Daten die Wahrscheinlichkeit eines Todesfalls zu berechnen und eine Empfehlung bezüglich der Schliessung bzw Offenhaltung der Strasse auszusprechen.\n",
    "\n",
    "Damit die Strasse offen bleiben kann, muss gezeigt werden, dass die jährliche Wahrscheinlichkeit von Todesfällen infolge Steinschlags kleiner als 10-4  ist. Für die Berechnungen soll ein gut strukturierter und dokumentierter Code in Python oder R entwickelt werden.\n"
   ]
  },
  {
   "cell_type": "markdown",
   "id": "2007a0b3",
   "metadata": {},
   "source": [
    "## Grundlagen\n",
    "Für die Planung der neuen Sicherheitsnetze, hat ein beauftragter Geologe, über drei Monate Daten zu den Steinschlagereignisse aufgenommen. Dabei wurde Steingeschwindigkeit, Steinmasse und Zeitpunkt und der Zeitpunkt des Ereignis registriert. Diese Daten können von Ihnen zur Modellbildung verwendet werden und stehen unter folgenden Links zur Verfügung:\n",
    "\n",
    "Ereignis aus Ablösungszone 1: https://www.dropbox.com/s/i58gdv6pzi03rhr/out_1.csv?dl=0\n",
    "\n",
    "Ereignis aus Ablösungszone 2: https://www.dropbox.com/s/3nk9pv7nzz8f0qb/out_2.csv?dl=0\n",
    "NB: Die Geschwindigkeit ist durch einen Radar aufgenommen und sehr präzise. Die Masse ist eine Experten-Schätzung des Geologen.\n",
    "Ein beauftragtes Ingenieurbüro hat geschätzt, dass die Sicherheitsnetze bis zu einer Aufprallenergie von 1000 kJ sicher sind. Falls bereits ein Stein mit über 2000kg in den Sicherheitsnetzen liegt, beträgt die Aufprallenergie, die von den Sicherheitsnetzen aufgenommen werden kann, nur noch 500 kJ. Steine in den Sicherheitsnetze werden vom Unterhaltsteam entfernt (die Reaktionszeit beträgt 24 Stunden).\n",
    "Das tägliche Verkehrsaufkommen beträgt 1200 Autos. Stau kommt auf der Strecke nicht vor. Die Tempolimite beträgt 60 km/h. "
   ]
  },
  {
   "cell_type": "markdown",
   "id": "c6ccc6f5",
   "metadata": {},
   "source": [
    "## Abgabe\n",
    "Form der Abgabe\n",
    "Quellcode der Berechnungen in einem Notebook (R oder Jupyter).\n",
    "\n",
    "Kurzer Bericht (max 8 Seiten) der die Berechnungen klar und nachvollziebar beschreibt und die Empfehlung an den Kantonsingenieur begründet."
   ]
  },
  {
   "cell_type": "markdown",
   "id": "4c8cfaab",
   "metadata": {},
   "source": [
    "### Abgabetermin\n",
    "Montag, 10. Januar 2022"
   ]
  },
  {
   "cell_type": "markdown",
   "id": "81779819",
   "metadata": {},
   "source": [
    "## 1. Bibliotheken Importieren"
   ]
  },
  {
   "cell_type": "code",
   "execution_count": 1,
   "id": "d56d63f8",
   "metadata": {
    "collapsed": true
   },
   "outputs": [
    {
     "ename": "ModuleNotFoundError",
     "evalue": "No module named 'scipy'",
     "output_type": "error",
     "traceback": [
      "\u001b[1;31m---------------------------------------------------------------------------\u001b[0m",
      "\u001b[1;31mModuleNotFoundError\u001b[0m                       Traceback (most recent call last)",
      "\u001b[1;32mC:\\Users\\SIBENT~1\\AppData\\Local\\Temp/ipykernel_18404/2896175383.py\u001b[0m in \u001b[0;36m<module>\u001b[1;34m\u001b[0m\n\u001b[0;32m      2\u001b[0m \u001b[1;32mimport\u001b[0m \u001b[0mrandom\u001b[0m \u001b[1;32mas\u001b[0m \u001b[0mrnd\u001b[0m\u001b[1;33m\u001b[0m\u001b[1;33m\u001b[0m\u001b[0m\n\u001b[0;32m      3\u001b[0m \u001b[1;32mimport\u001b[0m \u001b[0mpandas\u001b[0m \u001b[1;32mas\u001b[0m \u001b[0mpd\u001b[0m\u001b[1;33m\u001b[0m\u001b[1;33m\u001b[0m\u001b[0m\n\u001b[1;32m----> 4\u001b[1;33m \u001b[1;32mimport\u001b[0m \u001b[0mscipy\u001b[0m\u001b[1;33m.\u001b[0m\u001b[0mstats\u001b[0m \u001b[1;32mas\u001b[0m \u001b[0mstats\u001b[0m\u001b[1;33m\u001b[0m\u001b[1;33m\u001b[0m\u001b[0m\n\u001b[0m\u001b[0;32m      5\u001b[0m \u001b[1;32mimport\u001b[0m \u001b[0mmatplotlib\u001b[0m\u001b[1;33m.\u001b[0m\u001b[0mpyplot\u001b[0m \u001b[1;32mas\u001b[0m \u001b[0mplt\u001b[0m\u001b[1;33m\u001b[0m\u001b[1;33m\u001b[0m\u001b[0m\n\u001b[0;32m      6\u001b[0m \u001b[1;32mfrom\u001b[0m \u001b[0mpandas_profiling\u001b[0m \u001b[1;32mimport\u001b[0m \u001b[0mProfileReport\u001b[0m\u001b[1;33m\u001b[0m\u001b[1;33m\u001b[0m\u001b[0m\n",
      "\u001b[1;31mModuleNotFoundError\u001b[0m: No module named 'scipy'"
     ]
    }
   ],
   "source": [
    "import numpy as np\n",
    "import random as rnd\n",
    "import pandas as pd\n",
    "import scipy.stats as stats\n",
    "import matplotlib.pyplot as plt\n",
    "from pandas_profiling import ProfileReport\n",
    "from msticpy.nbtools.timeline import display_timeline"
   ]
  },
  {
   "cell_type": "markdown",
   "id": "45ec8eec",
   "metadata": {},
   "source": [
    "## 2. Daten einlesen"
   ]
  },
  {
   "cell_type": "code",
   "execution_count": null,
   "id": "d5195c5d",
   "metadata": {},
   "outputs": [],
   "source": [
    "df1 = pd.read_csv(\"out_1.csv\") # Daten einlesen\n",
    "df2 = pd.read_csv(\"out_2.csv\")"
   ]
  },
  {
   "cell_type": "markdown",
   "id": "19e58fed",
   "metadata": {},
   "source": [
    "## 3. Daten Bereinigung und Bearbeiten"
   ]
  },
  {
   "cell_type": "code",
   "execution_count": null,
   "id": "6866afeb",
   "metadata": {},
   "outputs": [],
   "source": [
    "df1 = df1.loc[:, [\"Datum\",\"Uhrzeit\",\"Masse [kg]\",\"Geschwindigkeit [m/s]\"]] # Datentabelle auswaehlen\n",
    "df1 = df1.dropna() # entfernt alle Zeile die mit NA Werte\n",
    "df1['Ablösungszone 1'] = 1 # Spalte Ablösungszone 1 hinzugefuegt"
   ]
  },
  {
   "cell_type": "code",
   "execution_count": null,
   "id": "96e999a7",
   "metadata": {},
   "outputs": [],
   "source": [
    "df2 = df2.rename(columns={\"Date\":\"Datum\",\"m [kg]\":\"Masse [kg]\",\"v [m/s]\":\"Geschwindigkeit [m/s]\"}) # Spaltenname aendern\n",
    "df2 = df2.loc[:, [\"Datum\",\"Uhrzeit\",\"Masse [kg]\",\"Geschwindigkeit [m/s]\"]] # Datentabelle auswaehlen\n",
    "df2 = df2.dropna() # entfernt alle Zeile die mit NA Werte\n",
    "df2['Ablösungszone 2'] = 2 #Spalte Ablösungszone 2 hinzugefuegt"
   ]
  },
  {
   "cell_type": "code",
   "execution_count": null,
   "id": "940d9dea",
   "metadata": {},
   "outputs": [],
   "source": [
    "df1.describe()"
   ]
  },
  {
   "cell_type": "markdown",
   "id": "ce1d7a19",
   "metadata": {},
   "source": [
    "## 4. Tabellen zusammenfuegen"
   ]
  },
  {
   "cell_type": "code",
   "execution_count": null,
   "id": "5ffdf719",
   "metadata": {},
   "outputs": [],
   "source": [
    "frames = [df1, df2]\n",
    "df3 = pd.concat(frames)\n",
    "df3"
   ]
  },
  {
   "cell_type": "markdown",
   "id": "0d9cf252",
   "metadata": {},
   "source": [
    "## 5. Kinetische Energie"
   ]
  },
  {
   "cell_type": "code",
   "execution_count": null,
   "id": "533ee569",
   "metadata": {},
   "outputs": [],
   "source": [
    "liste_masse = [(x) for x in df3['Masse [kg]']]\n",
    "liste_geschwindigkeit = [(x) for x in df3[\"Geschwindigkeit [m/s]\"]]\n",
    "liste_energie = [] \n",
    "\n",
    "for i in range(len(liste_masse)):\n",
    "    energie = 0.5 * liste_masse[i] * liste_geschwindigkeit[i]**2 / 1000 # Kj ausrechnen\n",
    "    energie = round(energie,1) # Rundung\n",
    "    liste_energie.append(energie)\n",
    "    \n",
    "df3['Energie [kJ]'] = liste_energie"
   ]
  },
  {
   "cell_type": "code",
   "execution_count": null,
   "id": "e3aeeffb",
   "metadata": {},
   "outputs": [],
   "source": [
    "#df3.profile_report()"
   ]
  },
  {
   "cell_type": "markdown",
   "id": "e3f17371",
   "metadata": {},
   "source": [
    "## 6. Statistik von df3"
   ]
  },
  {
   "cell_type": "code",
   "execution_count": null,
   "id": "9faf228e",
   "metadata": {},
   "outputs": [],
   "source": [
    "df3.describe()\n",
    "df3.describe(include=['object'])\n",
    "df3.describe(include='all')"
   ]
  },
  {
   "cell_type": "markdown",
   "id": "cc628671",
   "metadata": {},
   "source": [
    "### Statistik der Masse"
   ]
  },
  {
   "cell_type": "code",
   "execution_count": null,
   "id": "baf6421e",
   "metadata": {},
   "outputs": [],
   "source": [
    "varianz = df3[\"Masse [kg]\"].var()\n",
    "standardabweichung = df3[\"Masse [kg]\"].std()\n",
    "schiefemasse = df3[\"Masse [kg]\"].skew()\n",
    "kurtosis = df3[\"Masse [kg]\"].kurtosis()"
   ]
  },
  {
   "cell_type": "code",
   "execution_count": null,
   "id": "4cced48e",
   "metadata": {},
   "outputs": [],
   "source": [
    "print((\"Varianz {0}, Standardabweichung {1}, Schiefemasse {2}, Kurtosis {3}\").format(varianz, standardabweichung, schiefemasse, kurtosis))"
   ]
  },
  {
   "cell_type": "markdown",
   "id": "b569cd38",
   "metadata": {},
   "source": [
    "## Histogramme von df3"
   ]
  },
  {
   "cell_type": "code",
   "execution_count": null,
   "id": "ba2785f8",
   "metadata": {},
   "outputs": [],
   "source": [
    "df3.head(5)"
   ]
  },
  {
   "cell_type": "markdown",
   "id": "b56793ba",
   "metadata": {},
   "source": [
    "### Histogram Masse"
   ]
  },
  {
   "cell_type": "code",
   "execution_count": 2,
   "id": "c12fcd23",
   "metadata": {
    "collapsed": true
   },
   "outputs": [
    {
     "ename": "NameError",
     "evalue": "name 'plt' is not defined",
     "output_type": "error",
     "traceback": [
      "\u001b[1;31m---------------------------------------------------------------------------\u001b[0m",
      "\u001b[1;31mNameError\u001b[0m                                 Traceback (most recent call last)",
      "\u001b[1;32mC:\\Users\\SIBENT~1\\AppData\\Local\\Temp/ipykernel_18404/3881997764.py\u001b[0m in \u001b[0;36m<module>\u001b[1;34m\u001b[0m\n\u001b[0;32m      1\u001b[0m \u001b[0mbins\u001b[0m \u001b[1;33m=\u001b[0m \u001b[1;33m[\u001b[0m\u001b[0mx\u001b[0m \u001b[1;32mfor\u001b[0m \u001b[0mx\u001b[0m \u001b[1;32min\u001b[0m \u001b[0mrange\u001b[0m\u001b[1;33m(\u001b[0m\u001b[1;36m0\u001b[0m\u001b[1;33m,\u001b[0m\u001b[1;36m3200\u001b[0m\u001b[1;33m,\u001b[0m\u001b[1;36m50\u001b[0m\u001b[1;33m)\u001b[0m\u001b[1;33m]\u001b[0m\u001b[1;33m\u001b[0m\u001b[1;33m\u001b[0m\u001b[0m\n\u001b[0;32m      2\u001b[0m \u001b[1;33m\u001b[0m\u001b[0m\n\u001b[1;32m----> 3\u001b[1;33m \u001b[0mplt\u001b[0m\u001b[1;33m.\u001b[0m\u001b[0mhist\u001b[0m\u001b[1;33m(\u001b[0m\u001b[0mdf3\u001b[0m\u001b[1;33m[\u001b[0m\u001b[1;34m\"Masse [kg]\"\u001b[0m\u001b[1;33m]\u001b[0m\u001b[1;33m)\u001b[0m\u001b[1;33m\u001b[0m\u001b[1;33m\u001b[0m\u001b[0m\n\u001b[0m\u001b[0;32m      4\u001b[0m \u001b[1;33m\u001b[0m\u001b[0m\n\u001b[0;32m      5\u001b[0m \u001b[0mplt\u001b[0m\u001b[1;33m.\u001b[0m\u001b[0mxticks\u001b[0m\u001b[1;33m(\u001b[0m\u001b[0mbins\u001b[0m\u001b[1;33m)\u001b[0m\u001b[1;33m\u001b[0m\u001b[1;33m\u001b[0m\u001b[0m\n",
      "\u001b[1;31mNameError\u001b[0m: name 'plt' is not defined"
     ]
    }
   ],
   "source": [
    "bins = [x for x in range(0,3200,50)]\n",
    "\n",
    "plt.hist(df3[\"Masse [kg]\"])\n",
    "\n",
    "plt.xticks(bins)\n",
    "\n",
    "plt.xlabel(\"Masse [kg]\")\n",
    "plt.ylabel(\"Anzahl Steine\")\n",
    "plt.title(\"Histogramme Masse der Steine\")\n",
    "\n",
    "plt.show()"
   ]
  },
  {
   "cell_type": "markdown",
   "id": "733a8f37",
   "metadata": {},
   "source": [
    "### Histogram Geschwindigkeit"
   ]
  },
  {
   "cell_type": "code",
   "execution_count": null,
   "id": "bac18121",
   "metadata": {},
   "outputs": [],
   "source": [
    "bins = [x for x in range(0,3200,50)]\n",
    "\n",
    "plt.hist(df3[\"Geschwindigkeit [m/s]\"])\n",
    "\n",
    "plt.xticks(bins)\n",
    "\n",
    "plt.xlabel(\"Geschwindigkeit [m/s]\")\n",
    "plt.ylabel(\"Anzahl Geschwindigkeit\")\n",
    "plt.title(\"Histogramme Geschwindigkeit\")\n",
    "\n",
    "plt.show()"
   ]
  },
  {
   "cell_type": "markdown",
   "id": "56042b2a",
   "metadata": {},
   "source": [
    "### Histogram Energie"
   ]
  },
  {
   "cell_type": "code",
   "execution_count": null,
   "id": "5e51ef1b",
   "metadata": {},
   "outputs": [],
   "source": [
    "bins = [x for x in range(0,3200,50)]\n",
    "\n",
    "plt.hist(df3[\"Energie [kJ]\"])\n",
    "\n",
    "plt.xticks(bins)\n",
    "\n",
    "plt.xlabel(\"Energie [kJ]\")\n",
    "plt.ylabel(\"Anzahl Energie\")\n",
    "plt.title(\"Histogramme Energie\")\n",
    "\n",
    "plt.show()"
   ]
  },
  {
   "cell_type": "code",
   "execution_count": null,
   "id": "9a37632a",
   "metadata": {},
   "outputs": [],
   "source": []
  },
  {
   "cell_type": "code",
   "execution_count": null,
   "id": "920ce59e",
   "metadata": {},
   "outputs": [],
   "source": []
  }
 ],
 "metadata": {
  "kernelspec": {
   "display_name": "Python 3 (ipykernel)",
   "language": "python",
   "name": "python3"
  },
  "language_info": {
   "codemirror_mode": {
    "name": "ipython",
    "version": 3
   },
   "file_extension": ".py",
   "mimetype": "text/x-python",
   "name": "python",
   "nbconvert_exporter": "python",
   "pygments_lexer": "ipython3",
   "version": "3.9.7"
  }
 },
 "nbformat": 4,
 "nbformat_minor": 5
}
