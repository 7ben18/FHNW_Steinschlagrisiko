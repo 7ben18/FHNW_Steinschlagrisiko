{
 "cells": [
  {
   "cell_type": "code",
   "execution_count": null,
   "id": "289c724c",
   "metadata": {},
   "outputs": [],
   "source": [
    "print(\"Steinschlagrisiko Challenge\")"
   ]
  },
  {
   "cell_type": "code",
   "execution_count": null,
   "id": "2699064d",
   "metadata": {},
   "outputs": [],
   "source": []
  },
  {
   "cell_type": "code",
   "execution_count": null,
   "id": "4da33d33",
   "metadata": {},
   "outputs": [],
   "source": []
  },
  {
   "cell_type": "code",
   "execution_count": 4,
   "id": "f502afff",
   "metadata": {},
   "outputs": [
    {
     "name": "stdout",
     "output_type": "stream",
     "text": [
      "push!\n"
     ]
    }
   ],
   "source": [
    "print(\"push!\")"
   ]
  },
  {
   "cell_type": "code",
   "execution_count": null,
   "id": "07cd6470",
   "metadata": {},
   "outputs": [],
   "source": [
    "print(\"Hello World\")"
   ]
  }
 ],
 "metadata": {
  "kernelspec": {
   "display_name": "Python 3",
   "language": "python",
   "name": "python3"
  },
  "language_info": {
   "codemirror_mode": {
    "name": "ipython",
    "version": 3
   },
   "file_extension": ".py",
   "mimetype": "text/x-python",
   "name": "python",
   "nbconvert_exporter": "python",
   "pygments_lexer": "ipython3",
   "version": "3.8.8"
  }
 },
 "nbformat": 4,
 "nbformat_minor": 5
}
