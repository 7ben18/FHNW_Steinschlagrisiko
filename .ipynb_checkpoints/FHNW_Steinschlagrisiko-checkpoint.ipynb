{
 "cells": [
  {
   "cell_type": "markdown",
   "id": "a8817dde",
   "metadata": {},
   "source": [
    "# Steinschlagrisiko cwm1"
   ]
  },
  {
   "cell_type": "markdown",
   "id": "07c6f565",
   "metadata": {},
   "source": [
    "## Aufgabenstellung\n",
    "Die Kantonsstrasse unterhalb Schiers (GR) ist vom Steinschlag betroffen. Steine lösen sich von zwei unterschiedlichen Stellen an der Felswand ab (Ablösungszone 1 und Ablösungszone 2). Der betroffene Strassenabschnitt ist mit Steinfangnetzen gesichert, die jedoch in die Jahre gekommen sind und die angestrebte Sicherheit nicht mehr gewährleisten können. Die Planung für Ersatznetze hat bereits begonnen, kann aber frühstens in einem Jahr umgesetzt werden.\n",
    "\n",
    "In den letzten Monaten haben sich mehrere Steinschlagereignisse ereignet. Kommt es im Lauf des nächsten Jahres zu weiteren vergleichbaren Ereignissen, könnten die alten Sicherheitsnetze versagen und die Verkehrsteilnehmer einem grossen Sicherheitsrisiko ausgesetzt sein. Die Bevölkerung ist verunsichert und der Kantonsingenieur muss schnell entscheiden, ob das Risiko für die Verkehrsteilnehmer zu gross ist und die Kantonsstrasse vorübergehend gesperrt werden muss. Der Kantonsingenieur hat sie beauftragt, anhand von vorhanden Daten die Wahrscheinlichkeit eines Todesfalls zu berechnen und eine Empfehlung bezüglich der Schliessung bzw Offenhaltung der Strasse auszusprechen.\n",
    "\n",
    "Damit die Strasse offen bleiben kann, muss gezeigt werden, dass die jährliche Wahrscheinlichkeit von Todesfällen infolge Steinschlags kleiner als 10-4  ist. Für die Berechnungen soll ein gut strukturierter und dokumentierter Code in Python oder R entwickelt werden.\n"
   ]
  },
  {
   "cell_type": "markdown",
   "id": "2007a0b3",
   "metadata": {},
   "source": [
    "## Grundlagen\n",
    "Für die Planung der neuen Sicherheitsnetze, hat ein beauftragter Geologe, über drei Monate Daten zu den Steinschlagereignisse aufgenommen. Dabei wurde Steingeschwindigkeit, Steinmasse und Zeitpunkt und der Zeitpunkt des Ereignis registriert. Diese Daten können von Ihnen zur Modellbildung verwendet werden und stehen unter folgenden Links zur Verfügung:\n",
    "\n",
    "Ereignis aus Ablösungszone 1: https://www.dropbox.com/s/i58gdv6pzi03rhr/out_1.csv?dl=0\n",
    "\n",
    "Ereignis aus Ablösungszone 2: https://www.dropbox.com/s/3nk9pv7nzz8f0qb/out_2.csv?dl=0\n",
    "NB: Die Geschwindigkeit ist durch einen Radar aufgenommen und sehr präzise. Die Masse ist eine Experten-Schätzung des Geologen.\n",
    "Ein beauftragtes Ingenieurbüro hat geschätzt, dass die Sicherheitsnetze bis zu einer Aufprallenergie von 1000 kJ sicher sind. Falls bereits ein Stein mit über 2000kg in den Sicherheitsnetzen liegt, beträgt die Aufprallenergie, die von den Sicherheitsnetzen aufgenommen werden kann, nur noch 500 kJ. Steine in den Sicherheitsnetze werden vom Unterhaltsteam entfernt (die Reaktionszeit beträgt 24 Stunden).\n",
    "Das tägliche Verkehrsaufkommen beträgt 1200 Autos. Stau kommt auf der Strecke nicht vor. Die Tempolimite beträgt 60 km/h. "
   ]
  },
  {
   "cell_type": "markdown",
   "id": "c6ccc6f5",
   "metadata": {},
   "source": [
    "## Abgabe\n",
    "Form der Abgabe\n",
    "Quellcode der Berechnungen in einem Notebook (R oder Jupyter).\n",
    "\n",
    "Kurzer Bericht (max 8 Seiten) der die Berechnungen klar und nachvollziebar beschreibt und die Empfehlung an den Kantonsingenieur begründet."
   ]
  },
  {
   "cell_type": "markdown",
   "id": "4c8cfaab",
   "metadata": {},
   "source": [
    "### Abgabetermin\n",
    "Montag, 10. Januar 2022"
   ]
  },
  {
   "cell_type": "markdown",
   "id": "81779819",
   "metadata": {},
   "source": [
    "## 1. Bibliotheken Importieren"
   ]
  },
  {
   "cell_type": "code",
   "execution_count": 1,
   "id": "d56d63f8",
   "metadata": {},
   "outputs": [],
   "source": [
    "import numpy as np\n",
    "import random as rnd\n",
    "import pandas as pd\n",
    "import scipy.stats as stats\n",
    "import matplotlib.pyplot as plt\n",
    "from pandas_profiling import ProfileReport"
   ]
  },
  {
   "cell_type": "markdown",
   "id": "45ec8eec",
   "metadata": {},
   "source": [
    "## 2. Daten einlesen"
   ]
  },
  {
   "cell_type": "code",
   "execution_count": 2,
   "id": "d5195c5d",
   "metadata": {},
   "outputs": [],
   "source": [
    "df1 = pd.read_csv(\"out_1.csv\") # Daten einlesen\n",
    "df2 = pd.read_csv(\"out_2.csv\")"
   ]
  },
  {
   "cell_type": "markdown",
   "id": "19e58fed",
   "metadata": {},
   "source": [
    "## 3. Daten Bereinigung und Bearbeiten"
   ]
  },
  {
   "cell_type": "code",
   "execution_count": 3,
   "id": "6866afeb",
   "metadata": {},
   "outputs": [],
   "source": [
    "df1 = df1.loc[:, [\"Datum\",\"Uhrzeit\",\"Masse [kg]\",\"Geschwindigkeit [m/s]\"]] # Datentabelle auswaehlen\n",
    "df1 = df1.dropna() # entfernt alle Zeile die mit NA Werte\n",
    "df1['Ablösungszone'] = 1 # Spalte Ablösungszone 1 hinzugefuegt"
   ]
  },
  {
   "cell_type": "code",
   "execution_count": 4,
   "id": "96e999a7",
   "metadata": {},
   "outputs": [],
   "source": [
    "df2 = df2.rename(columns={\"Date\":\"Datum\",\"m [kg]\":\"Masse [kg]\",\"v [m/s]\":\"Geschwindigkeit [m/s]\"}) # Spaltenname aendern\n",
    "df2 = df2.loc[:, [\"Datum\",\"Uhrzeit\",\"Masse [kg]\",\"Geschwindigkeit [m/s]\"]] # Datentabelle auswaehlen\n",
    "df2 = df2.dropna() # entfernt alle Zeile die mit NA Werte\n",
    "df2['Ablösungszone'] = 2 #Spalte Ablösungszone 2 hinzugefuegt"
   ]
  },
  {
   "cell_type": "code",
   "execution_count": 5,
   "id": "940d9dea",
   "metadata": {},
   "outputs": [
    {
     "data": {
      "text/html": [
       "<div>\n",
       "<style scoped>\n",
       "    .dataframe tbody tr th:only-of-type {\n",
       "        vertical-align: middle;\n",
       "    }\n",
       "\n",
       "    .dataframe tbody tr th {\n",
       "        vertical-align: top;\n",
       "    }\n",
       "\n",
       "    .dataframe thead th {\n",
       "        text-align: right;\n",
       "    }\n",
       "</style>\n",
       "<table border=\"1\" class=\"dataframe\">\n",
       "  <thead>\n",
       "    <tr style=\"text-align: right;\">\n",
       "      <th></th>\n",
       "      <th>Masse [kg]</th>\n",
       "      <th>Geschwindigkeit [m/s]</th>\n",
       "      <th>Ablösungszone</th>\n",
       "    </tr>\n",
       "  </thead>\n",
       "  <tbody>\n",
       "    <tr>\n",
       "      <th>count</th>\n",
       "      <td>68.000000</td>\n",
       "      <td>68.000000</td>\n",
       "      <td>68.0</td>\n",
       "    </tr>\n",
       "    <tr>\n",
       "      <th>mean</th>\n",
       "      <td>628.632353</td>\n",
       "      <td>8.788235</td>\n",
       "      <td>1.0</td>\n",
       "    </tr>\n",
       "    <tr>\n",
       "      <th>std</th>\n",
       "      <td>695.884703</td>\n",
       "      <td>1.989189</td>\n",
       "      <td>0.0</td>\n",
       "    </tr>\n",
       "    <tr>\n",
       "      <th>min</th>\n",
       "      <td>12.000000</td>\n",
       "      <td>3.600000</td>\n",
       "      <td>1.0</td>\n",
       "    </tr>\n",
       "    <tr>\n",
       "      <th>25%</th>\n",
       "      <td>214.750000</td>\n",
       "      <td>7.300000</td>\n",
       "      <td>1.0</td>\n",
       "    </tr>\n",
       "    <tr>\n",
       "      <th>50%</th>\n",
       "      <td>402.500000</td>\n",
       "      <td>8.800000</td>\n",
       "      <td>1.0</td>\n",
       "    </tr>\n",
       "    <tr>\n",
       "      <th>75%</th>\n",
       "      <td>773.000000</td>\n",
       "      <td>10.125000</td>\n",
       "      <td>1.0</td>\n",
       "    </tr>\n",
       "    <tr>\n",
       "      <th>max</th>\n",
       "      <td>3104.000000</td>\n",
       "      <td>14.100000</td>\n",
       "      <td>1.0</td>\n",
       "    </tr>\n",
       "  </tbody>\n",
       "</table>\n",
       "</div>"
      ],
      "text/plain": [
       "        Masse [kg]  Geschwindigkeit [m/s]  Ablösungszone\n",
       "count    68.000000              68.000000           68.0\n",
       "mean    628.632353               8.788235            1.0\n",
       "std     695.884703               1.989189            0.0\n",
       "min      12.000000               3.600000            1.0\n",
       "25%     214.750000               7.300000            1.0\n",
       "50%     402.500000               8.800000            1.0\n",
       "75%     773.000000              10.125000            1.0\n",
       "max    3104.000000              14.100000            1.0"
      ]
     },
     "execution_count": 5,
     "metadata": {},
     "output_type": "execute_result"
    }
   ],
   "source": [
    "df1.describe()"
   ]
  },
  {
   "cell_type": "markdown",
   "id": "ce1d7a19",
   "metadata": {},
   "source": [
    "## 4. Tabellen zusammenfuegen"
   ]
  },
  {
   "cell_type": "code",
   "execution_count": 6,
   "id": "5ffdf719",
   "metadata": {},
   "outputs": [
    {
     "data": {
      "text/html": [
       "<div>\n",
       "<style scoped>\n",
       "    .dataframe tbody tr th:only-of-type {\n",
       "        vertical-align: middle;\n",
       "    }\n",
       "\n",
       "    .dataframe tbody tr th {\n",
       "        vertical-align: top;\n",
       "    }\n",
       "\n",
       "    .dataframe thead th {\n",
       "        text-align: right;\n",
       "    }\n",
       "</style>\n",
       "<table border=\"1\" class=\"dataframe\">\n",
       "  <thead>\n",
       "    <tr style=\"text-align: right;\">\n",
       "      <th></th>\n",
       "      <th>Datum</th>\n",
       "      <th>Uhrzeit</th>\n",
       "      <th>Masse [kg]</th>\n",
       "      <th>Geschwindigkeit [m/s]</th>\n",
       "      <th>Ablösungszone</th>\n",
       "    </tr>\n",
       "  </thead>\n",
       "  <tbody>\n",
       "    <tr>\n",
       "      <th>0</th>\n",
       "      <td>2019-01-01</td>\n",
       "      <td>09:00</td>\n",
       "      <td>194.0</td>\n",
       "      <td>8.4</td>\n",
       "      <td>1</td>\n",
       "    </tr>\n",
       "    <tr>\n",
       "      <th>1</th>\n",
       "      <td>2019-01-01</td>\n",
       "      <td>21:00</td>\n",
       "      <td>224.0</td>\n",
       "      <td>8.8</td>\n",
       "      <td>1</td>\n",
       "    </tr>\n",
       "    <tr>\n",
       "      <th>2</th>\n",
       "      <td>2019-01-02</td>\n",
       "      <td>14:00</td>\n",
       "      <td>3104.0</td>\n",
       "      <td>9.2</td>\n",
       "      <td>1</td>\n",
       "    </tr>\n",
       "    <tr>\n",
       "      <th>3</th>\n",
       "      <td>2019-01-04</td>\n",
       "      <td>15:00</td>\n",
       "      <td>228.0</td>\n",
       "      <td>8.0</td>\n",
       "      <td>1</td>\n",
       "    </tr>\n",
       "    <tr>\n",
       "      <th>4</th>\n",
       "      <td>2019-01-05</td>\n",
       "      <td>23:00</td>\n",
       "      <td>755.0</td>\n",
       "      <td>7.0</td>\n",
       "      <td>1</td>\n",
       "    </tr>\n",
       "    <tr>\n",
       "      <th>...</th>\n",
       "      <td>...</td>\n",
       "      <td>...</td>\n",
       "      <td>...</td>\n",
       "      <td>...</td>\n",
       "      <td>...</td>\n",
       "    </tr>\n",
       "    <tr>\n",
       "      <th>27</th>\n",
       "      <td>2019-03-20</td>\n",
       "      <td>10:00</td>\n",
       "      <td>16.0</td>\n",
       "      <td>42.1</td>\n",
       "      <td>2</td>\n",
       "    </tr>\n",
       "    <tr>\n",
       "      <th>28</th>\n",
       "      <td>2019-03-21</td>\n",
       "      <td>13:00</td>\n",
       "      <td>211.0</td>\n",
       "      <td>29.0</td>\n",
       "      <td>2</td>\n",
       "    </tr>\n",
       "    <tr>\n",
       "      <th>29</th>\n",
       "      <td>2019-03-24</td>\n",
       "      <td>16:00</td>\n",
       "      <td>3.0</td>\n",
       "      <td>42.3</td>\n",
       "      <td>2</td>\n",
       "    </tr>\n",
       "    <tr>\n",
       "      <th>30</th>\n",
       "      <td>2019-03-25</td>\n",
       "      <td>14:00</td>\n",
       "      <td>63.0</td>\n",
       "      <td>43.2</td>\n",
       "      <td>2</td>\n",
       "    </tr>\n",
       "    <tr>\n",
       "      <th>31</th>\n",
       "      <td>2019-03-28</td>\n",
       "      <td>01:00</td>\n",
       "      <td>58.0</td>\n",
       "      <td>37.2</td>\n",
       "      <td>2</td>\n",
       "    </tr>\n",
       "  </tbody>\n",
       "</table>\n",
       "<p>100 rows × 5 columns</p>\n",
       "</div>"
      ],
      "text/plain": [
       "         Datum Uhrzeit  Masse [kg]  Geschwindigkeit [m/s]  Ablösungszone\n",
       "0   2019-01-01   09:00       194.0                    8.4              1\n",
       "1   2019-01-01   21:00       224.0                    8.8              1\n",
       "2   2019-01-02   14:00      3104.0                    9.2              1\n",
       "3   2019-01-04   15:00       228.0                    8.0              1\n",
       "4   2019-01-05   23:00       755.0                    7.0              1\n",
       "..         ...     ...         ...                    ...            ...\n",
       "27  2019-03-20   10:00        16.0                   42.1              2\n",
       "28  2019-03-21   13:00       211.0                   29.0              2\n",
       "29  2019-03-24   16:00         3.0                   42.3              2\n",
       "30  2019-03-25   14:00        63.0                   43.2              2\n",
       "31  2019-03-28   01:00        58.0                   37.2              2\n",
       "\n",
       "[100 rows x 5 columns]"
      ]
     },
     "execution_count": 6,
     "metadata": {},
     "output_type": "execute_result"
    }
   ],
   "source": [
    "frames = [df1, df2]\n",
    "df3 = pd.concat(frames)\n",
    "df3"
   ]
  },
  {
   "cell_type": "markdown",
   "id": "0d9cf252",
   "metadata": {},
   "source": [
    "## 5. Kinetische Energie"
   ]
  },
  {
   "cell_type": "code",
   "execution_count": 7,
   "id": "533ee569",
   "metadata": {},
   "outputs": [],
   "source": [
    "liste_masse = [(x) for x in df3['Masse [kg]']]\n",
    "liste_geschwindigkeit = [(x) for x in df3[\"Geschwindigkeit [m/s]\"]]\n",
    "liste_energie = [] \n",
    "\n",
    "for i in range(len(liste_masse)):\n",
    "    energie = 0.5 * liste_masse[i] * liste_geschwindigkeit[i]**2 / 1000 # Kj ausrechnen\n",
    "    energie = round(energie,1) # Rundung\n",
    "    liste_energie.append(energie)\n",
    "    \n",
    "df3['Energie [kJ]'] = liste_energie"
   ]
  },
  {
   "cell_type": "code",
   "execution_count": 8,
   "id": "e3aeeffb",
   "metadata": {},
   "outputs": [],
   "source": [
    "#df3.profile_report()"
   ]
  },
  {
   "cell_type": "markdown",
   "id": "e3f17371",
   "metadata": {},
   "source": [
    "## 6. Statistik von df3"
   ]
  },
  {
   "cell_type": "code",
   "execution_count": 9,
   "id": "9faf228e",
   "metadata": {},
   "outputs": [
    {
     "data": {
      "text/html": [
       "<div>\n",
       "<style scoped>\n",
       "    .dataframe tbody tr th:only-of-type {\n",
       "        vertical-align: middle;\n",
       "    }\n",
       "\n",
       "    .dataframe tbody tr th {\n",
       "        vertical-align: top;\n",
       "    }\n",
       "\n",
       "    .dataframe thead th {\n",
       "        text-align: right;\n",
       "    }\n",
       "</style>\n",
       "<table border=\"1\" class=\"dataframe\">\n",
       "  <thead>\n",
       "    <tr style=\"text-align: right;\">\n",
       "      <th></th>\n",
       "      <th>Datum</th>\n",
       "      <th>Uhrzeit</th>\n",
       "      <th>Masse [kg]</th>\n",
       "      <th>Geschwindigkeit [m/s]</th>\n",
       "      <th>Ablösungszone</th>\n",
       "      <th>Energie [kJ]</th>\n",
       "    </tr>\n",
       "  </thead>\n",
       "  <tbody>\n",
       "    <tr>\n",
       "      <th>0</th>\n",
       "      <td>2019-01-01</td>\n",
       "      <td>09:00</td>\n",
       "      <td>194.0</td>\n",
       "      <td>8.4</td>\n",
       "      <td>1</td>\n",
       "      <td>6.8</td>\n",
       "    </tr>\n",
       "    <tr>\n",
       "      <th>1</th>\n",
       "      <td>2019-01-01</td>\n",
       "      <td>21:00</td>\n",
       "      <td>224.0</td>\n",
       "      <td>8.8</td>\n",
       "      <td>1</td>\n",
       "      <td>8.7</td>\n",
       "    </tr>\n",
       "    <tr>\n",
       "      <th>2</th>\n",
       "      <td>2019-01-02</td>\n",
       "      <td>14:00</td>\n",
       "      <td>3104.0</td>\n",
       "      <td>9.2</td>\n",
       "      <td>1</td>\n",
       "      <td>131.4</td>\n",
       "    </tr>\n",
       "    <tr>\n",
       "      <th>3</th>\n",
       "      <td>2019-01-04</td>\n",
       "      <td>15:00</td>\n",
       "      <td>228.0</td>\n",
       "      <td>8.0</td>\n",
       "      <td>1</td>\n",
       "      <td>7.3</td>\n",
       "    </tr>\n",
       "    <tr>\n",
       "      <th>4</th>\n",
       "      <td>2019-01-05</td>\n",
       "      <td>23:00</td>\n",
       "      <td>755.0</td>\n",
       "      <td>7.0</td>\n",
       "      <td>1</td>\n",
       "      <td>18.5</td>\n",
       "    </tr>\n",
       "    <tr>\n",
       "      <th>...</th>\n",
       "      <td>...</td>\n",
       "      <td>...</td>\n",
       "      <td>...</td>\n",
       "      <td>...</td>\n",
       "      <td>...</td>\n",
       "      <td>...</td>\n",
       "    </tr>\n",
       "    <tr>\n",
       "      <th>27</th>\n",
       "      <td>2019-03-20</td>\n",
       "      <td>10:00</td>\n",
       "      <td>16.0</td>\n",
       "      <td>42.1</td>\n",
       "      <td>2</td>\n",
       "      <td>14.2</td>\n",
       "    </tr>\n",
       "    <tr>\n",
       "      <th>28</th>\n",
       "      <td>2019-03-21</td>\n",
       "      <td>13:00</td>\n",
       "      <td>211.0</td>\n",
       "      <td>29.0</td>\n",
       "      <td>2</td>\n",
       "      <td>88.7</td>\n",
       "    </tr>\n",
       "    <tr>\n",
       "      <th>29</th>\n",
       "      <td>2019-03-24</td>\n",
       "      <td>16:00</td>\n",
       "      <td>3.0</td>\n",
       "      <td>42.3</td>\n",
       "      <td>2</td>\n",
       "      <td>2.7</td>\n",
       "    </tr>\n",
       "    <tr>\n",
       "      <th>30</th>\n",
       "      <td>2019-03-25</td>\n",
       "      <td>14:00</td>\n",
       "      <td>63.0</td>\n",
       "      <td>43.2</td>\n",
       "      <td>2</td>\n",
       "      <td>58.8</td>\n",
       "    </tr>\n",
       "    <tr>\n",
       "      <th>31</th>\n",
       "      <td>2019-03-28</td>\n",
       "      <td>01:00</td>\n",
       "      <td>58.0</td>\n",
       "      <td>37.2</td>\n",
       "      <td>2</td>\n",
       "      <td>40.1</td>\n",
       "    </tr>\n",
       "  </tbody>\n",
       "</table>\n",
       "<p>100 rows × 6 columns</p>\n",
       "</div>"
      ],
      "text/plain": [
       "         Datum Uhrzeit  Masse [kg]  Geschwindigkeit [m/s]  Ablösungszone  \\\n",
       "0   2019-01-01   09:00       194.0                    8.4              1   \n",
       "1   2019-01-01   21:00       224.0                    8.8              1   \n",
       "2   2019-01-02   14:00      3104.0                    9.2              1   \n",
       "3   2019-01-04   15:00       228.0                    8.0              1   \n",
       "4   2019-01-05   23:00       755.0                    7.0              1   \n",
       "..         ...     ...         ...                    ...            ...   \n",
       "27  2019-03-20   10:00        16.0                   42.1              2   \n",
       "28  2019-03-21   13:00       211.0                   29.0              2   \n",
       "29  2019-03-24   16:00         3.0                   42.3              2   \n",
       "30  2019-03-25   14:00        63.0                   43.2              2   \n",
       "31  2019-03-28   01:00        58.0                   37.2              2   \n",
       "\n",
       "    Energie [kJ]  \n",
       "0            6.8  \n",
       "1            8.7  \n",
       "2          131.4  \n",
       "3            7.3  \n",
       "4           18.5  \n",
       "..           ...  \n",
       "27          14.2  \n",
       "28          88.7  \n",
       "29           2.7  \n",
       "30          58.8  \n",
       "31          40.1  \n",
       "\n",
       "[100 rows x 6 columns]"
      ]
     },
     "execution_count": 9,
     "metadata": {},
     "output_type": "execute_result"
    }
   ],
   "source": [
    "df3.describe()\n",
    "df3.describe(include=['object'])\n",
    "df3.describe(include='all')\n",
    "df3"
   ]
  },
  {
   "cell_type": "markdown",
   "id": "cc628671",
   "metadata": {},
   "source": [
    "### Statistik der Masse"
   ]
  },
  {
   "cell_type": "code",
   "execution_count": 10,
   "id": "baf6421e",
   "metadata": {},
   "outputs": [],
   "source": [
    "varianz = df3[\"Masse [kg]\"].var()\n",
    "standardabweichung = df3[\"Masse [kg]\"].std()\n",
    "schiefemasse = df3[\"Masse [kg]\"].skew()\n",
    "kurtosis = df3[\"Masse [kg]\"].kurtosis()"
   ]
  },
  {
   "cell_type": "code",
   "execution_count": 11,
   "id": "4cced48e",
   "metadata": {},
   "outputs": [
    {
     "name": "stdout",
     "output_type": "stream",
     "text": [
      "Varianz 392717.47181818174, Standardabweichung 626.6717416783541, Schiefemasse 2.612662741124922, Kurtosis 7.2808001103153615\n"
     ]
    }
   ],
   "source": [
    "print((\"Varianz {0}, Standardabweichung {1}, Schiefemasse {2}, Kurtosis {3}\").format(varianz, standardabweichung, schiefemasse, kurtosis))"
   ]
  },
  {
   "cell_type": "markdown",
   "id": "b569cd38",
   "metadata": {},
   "source": [
    "## Histogramme von df3"
   ]
  },
  {
   "cell_type": "code",
   "execution_count": 12,
   "id": "ba2785f8",
   "metadata": {},
   "outputs": [
    {
     "data": {
      "text/html": [
       "<div>\n",
       "<style scoped>\n",
       "    .dataframe tbody tr th:only-of-type {\n",
       "        vertical-align: middle;\n",
       "    }\n",
       "\n",
       "    .dataframe tbody tr th {\n",
       "        vertical-align: top;\n",
       "    }\n",
       "\n",
       "    .dataframe thead th {\n",
       "        text-align: right;\n",
       "    }\n",
       "</style>\n",
       "<table border=\"1\" class=\"dataframe\">\n",
       "  <thead>\n",
       "    <tr style=\"text-align: right;\">\n",
       "      <th></th>\n",
       "      <th>Datum</th>\n",
       "      <th>Uhrzeit</th>\n",
       "      <th>Masse [kg]</th>\n",
       "      <th>Geschwindigkeit [m/s]</th>\n",
       "      <th>Ablösungszone</th>\n",
       "      <th>Energie [kJ]</th>\n",
       "    </tr>\n",
       "  </thead>\n",
       "  <tbody>\n",
       "    <tr>\n",
       "      <th>0</th>\n",
       "      <td>2019-01-01</td>\n",
       "      <td>09:00</td>\n",
       "      <td>194.0</td>\n",
       "      <td>8.4</td>\n",
       "      <td>1</td>\n",
       "      <td>6.8</td>\n",
       "    </tr>\n",
       "    <tr>\n",
       "      <th>1</th>\n",
       "      <td>2019-01-01</td>\n",
       "      <td>21:00</td>\n",
       "      <td>224.0</td>\n",
       "      <td>8.8</td>\n",
       "      <td>1</td>\n",
       "      <td>8.7</td>\n",
       "    </tr>\n",
       "    <tr>\n",
       "      <th>2</th>\n",
       "      <td>2019-01-02</td>\n",
       "      <td>14:00</td>\n",
       "      <td>3104.0</td>\n",
       "      <td>9.2</td>\n",
       "      <td>1</td>\n",
       "      <td>131.4</td>\n",
       "    </tr>\n",
       "    <tr>\n",
       "      <th>3</th>\n",
       "      <td>2019-01-04</td>\n",
       "      <td>15:00</td>\n",
       "      <td>228.0</td>\n",
       "      <td>8.0</td>\n",
       "      <td>1</td>\n",
       "      <td>7.3</td>\n",
       "    </tr>\n",
       "    <tr>\n",
       "      <th>4</th>\n",
       "      <td>2019-01-05</td>\n",
       "      <td>23:00</td>\n",
       "      <td>755.0</td>\n",
       "      <td>7.0</td>\n",
       "      <td>1</td>\n",
       "      <td>18.5</td>\n",
       "    </tr>\n",
       "  </tbody>\n",
       "</table>\n",
       "</div>"
      ],
      "text/plain": [
       "        Datum Uhrzeit  Masse [kg]  Geschwindigkeit [m/s]  Ablösungszone  \\\n",
       "0  2019-01-01   09:00       194.0                    8.4              1   \n",
       "1  2019-01-01   21:00       224.0                    8.8              1   \n",
       "2  2019-01-02   14:00      3104.0                    9.2              1   \n",
       "3  2019-01-04   15:00       228.0                    8.0              1   \n",
       "4  2019-01-05   23:00       755.0                    7.0              1   \n",
       "\n",
       "   Energie [kJ]  \n",
       "0           6.8  \n",
       "1           8.7  \n",
       "2         131.4  \n",
       "3           7.3  \n",
       "4          18.5  "
      ]
     },
     "execution_count": 12,
     "metadata": {},
     "output_type": "execute_result"
    }
   ],
   "source": [
    "df3.head(5)"
   ]
  },
  {
   "cell_type": "markdown",
   "id": "b56793ba",
   "metadata": {},
   "source": [
    "### Histogram Masse"
   ]
  },
  {
   "cell_type": "code",
   "execution_count": 13,
   "id": "c12fcd23",
   "metadata": {},
   "outputs": [
    {
     "name": "stderr",
     "output_type": "stream",
     "text": [
      "C:\\Users\\SIBENT~1\\AppData\\Local\\Temp/ipykernel_6012/3881997764.py:11: UserWarning: Matplotlib is currently using agg, which is a non-GUI backend, so cannot show the figure.\n",
      "  plt.show()\n"
     ]
    }
   ],
   "source": [
    "bins = [x for x in range(0,3200,50)]\n",
    "\n",
    "plt.hist(df3[\"Masse [kg]\"])\n",
    "\n",
    "plt.xticks(bins)\n",
    "\n",
    "plt.xlabel(\"Masse [kg]\")\n",
    "plt.ylabel(\"Anzahl Steine\")\n",
    "plt.title(\"Histogramme Masse der Steine\")\n",
    "\n",
    "plt.show()"
   ]
  },
  {
   "cell_type": "markdown",
   "id": "733a8f37",
   "metadata": {},
   "source": [
    "### Histogram Geschwindigkeit"
   ]
  },
  {
   "cell_type": "code",
   "execution_count": 14,
   "id": "bac18121",
   "metadata": {},
   "outputs": [
    {
     "name": "stderr",
     "output_type": "stream",
     "text": [
      "C:\\Users\\SIBENT~1\\AppData\\Local\\Temp/ipykernel_6012/2808212704.py:11: UserWarning: Matplotlib is currently using agg, which is a non-GUI backend, so cannot show the figure.\n",
      "  plt.show()\n"
     ]
    }
   ],
   "source": [
    "bins = [x for x in range(0,3200,50)]\n",
    "\n",
    "plt.hist(df3[\"Geschwindigkeit [m/s]\"])\n",
    "\n",
    "plt.xticks(bins)\n",
    "\n",
    "plt.xlabel(\"Geschwindigkeit [m/s]\")\n",
    "plt.ylabel(\"Anzahl Geschwindigkeit\")\n",
    "plt.title(\"Histogramme Geschwindigkeit\")\n",
    "\n",
    "plt.show()"
   ]
  },
  {
   "cell_type": "markdown",
   "id": "56042b2a",
   "metadata": {},
   "source": [
    "### Histogram Energie"
   ]
  },
  {
   "cell_type": "code",
   "execution_count": 15,
   "id": "5e51ef1b",
   "metadata": {},
   "outputs": [
    {
     "name": "stderr",
     "output_type": "stream",
     "text": [
      "C:\\Users\\SIBENT~1\\AppData\\Local\\Temp/ipykernel_6012/3305933434.py:11: UserWarning: Matplotlib is currently using agg, which is a non-GUI backend, so cannot show the figure.\n",
      "  plt.show()\n"
     ]
    }
   ],
   "source": [
    "bins = [x for x in range(0,3200,50)]\n",
    "\n",
    "plt.hist(df3[\"Energie [kJ]\"])\n",
    "\n",
    "plt.xticks(bins)\n",
    "\n",
    "plt.xlabel(\"Energie [kJ]\")\n",
    "plt.ylabel(\"Anzahl Energie\")\n",
    "plt.title(\"Histogramme Energie\")\n",
    "\n",
    "plt.show()"
   ]
  },
  {
   "cell_type": "code",
   "execution_count": null,
   "id": "9a37632a",
   "metadata": {},
   "outputs": [],
   "source": []
  },
  {
   "cell_type": "code",
   "execution_count": null,
   "id": "920ce59e",
   "metadata": {},
   "outputs": [],
   "source": []
  },
  {
   "cell_type": "code",
   "execution_count": null,
   "id": "e54b989b",
   "metadata": {},
   "outputs": [],
   "source": []
  },
  {
   "cell_type": "code",
   "execution_count": null,
   "id": "8572f44e",
   "metadata": {},
   "outputs": [],
   "source": []
  },
  {
   "cell_type": "code",
   "execution_count": null,
   "id": "5e9b22f9",
   "metadata": {},
   "outputs": [],
   "source": []
  },
  {
   "cell_type": "code",
   "execution_count": null,
   "id": "eeba021e",
   "metadata": {},
   "outputs": [],
   "source": []
  },
  {
   "cell_type": "code",
   "execution_count": null,
   "id": "3c4d4e27",
   "metadata": {},
   "outputs": [],
   "source": []
  },
  {
   "cell_type": "code",
   "execution_count": 21,
   "id": "87b8e0bd",
   "metadata": {},
   "outputs": [
    {
     "name": "stderr",
     "output_type": "stream",
     "text": [
      "C:\\Users\\SIBENT~1\\AppData\\Local\\Temp/ipykernel_6012/2190905514.py:19: UserWarning: Matplotlib is currently using agg, which is a non-GUI backend, so cannot show the figure.\n",
      "  plt.show()\n"
     ]
    }
   ],
   "source": [
    "# Prepare data\n",
    "x_var = 'Energie [kJ]'\n",
    "groupby_var = 'Ablösungszone'\n",
    "df_agg = df3.loc[:, [x_var, groupby_var]].groupby(groupby_var)\n",
    "vals = [df3[x_var].values.tolist() for i, df3 in df_agg]\n",
    "\n",
    "# Draw\n",
    "plt.figure(figsize=(16,9), dpi= 80)\n",
    "colors = [plt.cm.Spectral(i/float(len(vals)-1)) for i in range(len(vals))]\n",
    "n, bins, patches = plt.hist(vals, 30, stacked=True, density=False, color=colors[:len(vals)])\n",
    "\n",
    "# Decoration\n",
    "plt.legend({group:col for group, col in zip(np.unique(df3[groupby_var]).tolist(), colors[:len(vals)])})\n",
    "plt.title(f\"Stacked Histogram of ${x_var}$ colored by ${groupby_var}$\", fontsize=22)\n",
    "plt.xlabel(x_var)\n",
    "plt.ylabel(\"Frequency\")\n",
    "plt.ylim(0, 25)\n",
    "plt.xticks(ticks=bins[::3], labels=[round(b,1) for b in bins[::3]])\n",
    "plt.show()"
   ]
  },
  {
   "cell_type": "code",
   "execution_count": null,
   "id": "d1924028",
   "metadata": {},
   "outputs": [],
   "source": []
  }
 ],
 "metadata": {
  "kernelspec": {
   "display_name": "Python 3 (ipykernel)",
   "language": "python",
   "name": "python3"
  },
  "language_info": {
   "codemirror_mode": {
    "name": "ipython",
    "version": 3
   },
   "file_extension": ".py",
   "mimetype": "text/x-python",
   "name": "python",
   "nbconvert_exporter": "python",
   "pygments_lexer": "ipython3",
   "version": "3.9.7"
  }
 },
 "nbformat": 4,
 "nbformat_minor": 5
}
