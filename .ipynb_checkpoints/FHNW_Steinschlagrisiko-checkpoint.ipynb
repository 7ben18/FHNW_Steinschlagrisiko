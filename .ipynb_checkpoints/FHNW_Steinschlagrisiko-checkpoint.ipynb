{
 "cells": [
  {
   "cell_type": "code",
   "execution_count": null,
   "id": "9b432972",
   "metadata": {},
   "outputs": [],
   "source": [
    "print(\"Steinschlagrisiko Challenge\")"
   ]
  },
  {
   "cell_type": "code",
   "execution_count": null,
   "id": "e3dcb842",
   "metadata": {},
   "outputs": [],
   "source": [
    "print(\"Test Test...\")"
   ]
  },
  {
   "cell_type": "code",
   "execution_count": null,
   "id": "2a074d38",
   "metadata": {},
   "outputs": [],
   "source": []
  },
  {
   "cell_type": "code",
   "execution_count": null,
   "id": "0a963729",
   "metadata": {},
   "outputs": [],
   "source": []
  },
  {
   "cell_type": "code",
   "execution_count": null,
   "id": "5ffda159",
   "metadata": {},
   "outputs": [],
   "source": []
  }
 ],
 "metadata": {
  "kernelspec": {
   "display_name": "Python 3",
   "language": "python",
   "name": "python3"
  },
  "language_info": {
   "codemirror_mode": {
    "name": "ipython",
    "version": 3
   },
   "file_extension": ".py",
   "mimetype": "text/x-python",
   "name": "python",
   "nbconvert_exporter": "python",
   "pygments_lexer": "ipython3",
   "version": "3.8.8"
  }
 },
 "nbformat": 4,
 "nbformat_minor": 5
}
